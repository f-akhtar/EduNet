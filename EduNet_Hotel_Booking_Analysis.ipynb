{
 "cells": [
  {
   "cell_type": "markdown",
   "metadata": {
    "id": "vncDsAP0Gaoa"
   },
   "source": [
    "# **Project Name**    - Hotel Booking Analysis\n",
    "\n"
   ]
  },
  {
   "cell_type": "markdown",
   "metadata": {
    "id": "beRrZCGUAJYm"
   },
   "source": [
    "##### **Project Type**    - Exploratory data analysis (EDA)\n",
    "##### **Contribution**    - Individual\n",
    "##### **Student Name -** Farhan Akhtar"
   ]
  },
  {
   "cell_type": "markdown",
   "metadata": {
    "id": "FJNUwmbgGyua"
   },
   "source": [
    "# **Project Summary -**"
   ]
  },
  {
   "cell_type": "markdown",
   "metadata": {
    "id": "F6v_1wHtG2nS"
   },
   "source": [
    "* In this project we began to explore the dataset in which Hotel Booking comprises of two types of hotels i.e City Hotel and Resort Hotel.\n",
    "\n",
    "*   In this dataset, there are 119390 rows and 32 columns.\n",
    "\n",
    "*   All the columns are divided into three dtypes : Object, float64 and int64.\n",
    "\n",
    "*   In this dataset, there are both duplicates and missing values available. So, we have to deal with that and as a result i have replaced the null and missing values and also i dropped the duplicate values.\n",
    "\n",
    "*   The maximum number of missing values are from 'Company' column then followed by 'Agent','Country' and 'Children' columns. The 'Children' column consists of only 4 null values while 'Company' column consists of 112593 null values.\n",
    "\n",
    "*   In this project, i divided the data manipulation workflow into three categories i.e. Data Collection, Data cleaning & manipulation and EDA(Exploratory Data Analysis).\n",
    "\n",
    "*   In moving further, i have used various basic functions and attributes i.e Data collections first step to find different columns which is done by various methods like Head(), tail(), info(), describe(), columns() and some others method used for data collections.\n",
    "\n",
    "*   As i further moved, i check the number of unique values of each columns and generate a list of those values and then also find the unique values of each columns later on. \n",
    "\n",
    "*   Then further i converted the datatypes of columns into appropriate datatype. I added some of the columns name here, one is 'total_people' and other is 'total_stay'.\n",
    "\n",
    "*   Find some columns are not in accurate data types which correct it later, done in Data cleaning part and as well as duplicates data items must be removed as i find duplicate items equal to 31994 which is dropped from dataset later.\n",
    "\n",
    "*   I found that there were some rows in which the combining values of adults, babies and childrens was 0, so this simply means there were no guests as 0 indicates presence of none. So, there were no bookings made. As a result, i simply dropped the rows where combining values of adults, babies and children columns was 0.\n",
    "\n",
    "*   The data type of 'reservation_status_date' column was object type, so it was changed to date type format for better use.\n",
    "\n",
    "*   Before visualizing any data from the data set we have to do data wrangling. For that, i have checked the null value of all the columns. After checking, when i find minimal number of null values, filling these null values with necessary values as per requirement by using fillna().\n",
    "\n",
    "*   So, after completing the process of data wrangling, i moved to the data visualization part.\n",
    "\n",
    "*   In the data visualization process, i have used various charts and have dived deep understanding the graphs to catch the proper insights from the data. That gives the business outcomes which will ultimately boost the businesses.\n",
    "\n",
    "*   So, i explored and analyzed the data to discover important factors that govern the bookings."
   ]
  },
  {
   "cell_type": "markdown",
   "metadata": {
    "id": "w6K7xa23Elo4"
   },
   "source": [
    "# **GitHub Link -**"
   ]
  },
  {
   "cell_type": "markdown",
   "metadata": {
    "id": "h1o69JH3Eqqn"
   },
   "source": [
    "**GitHub Link:**\n",
    "https://github.com/f-akhtar/Edunet.git"
   ]
  },
  {
   "cell_type": "markdown",
   "metadata": {
    "id": "yQaldy8SH6Dl"
   },
   "source": [
    "# **Problem Statement**\n"
   ]
  },
  {
   "cell_type": "markdown",
   "metadata": {
    "id": "DpeJGUA3kjGy"
   },
   "source": [
    "Have you ever wondered when the best time of year to book a hotel room is? Or the optimal length of stay in order to get the best daily rate? What if you wanted to predict whether or not a hotel was likely to receive a disproportionately high number of special requests? This hotel booking dataset can help you explore those questions! This data set contains booking information for a city hotel and a resort hotel, and includes information such as when the booking was made, length of stay, the number of adults, children, and/or babies, and the number of available parking spaces, among other things. All personally identifying information has been removed from the data. Explore and analyse the data to discover important factors that govern the bookings."
   ]
  },
  {
   "cell_type": "markdown",
   "metadata": {
    "id": "PH-0ReGfmX4f"
   },
   "source": [
    "#### **Define Your Business Objective?**"
   ]
  },
  {
   "cell_type": "markdown",
   "metadata": {
    "id": "PhDvGCAqmjP1"
   },
   "source": [
    "Analyse the data on bookings of City Hotel and Resort Hotel to gain insights on the different factors that affect the booking. This is undertaken as an individual project."
   ]
  },
  {
   "cell_type": "markdown",
   "metadata": {
    "id": "mDgbUHAGgjLW"
   },
   "source": [
    "# **General Guidelines** : -  "
   ]
  },
  {
   "cell_type": "markdown",
   "metadata": {
    "id": "ZrxVaUj-hHfC"
   },
   "source": [
    "1.   Well-structured, formatted, and commented code is required. \n",
    "2.   Exception Handling, Production Grade Code & Deployment Ready Code will be a plus. Those students will be awarded some additional credits. \n",
    "     \n",
    "     The additional credits will have advantages over other students during Star Student selection.\n",
    "       \n",
    "             [ Note: - Deployment Ready Code is defined as, the whole .ipynb notebook should be executable in one go\n",
    "                       without a single error logged. ]\n",
    "\n",
    "3.   Each and every logic should have proper comments.\n",
    "4. You may add as many number of charts you want. Make Sure for each and every chart the following format should be answered.\n",
    "        \n",
    "\n",
    "```\n",
    "# Chart visualization code\n",
    "```\n",
    "            \n",
    "\n",
    "*   Why did you pick the specific chart?\n",
    "*   What is/are the insight(s) found from the chart?\n",
    "* Will the gained insights help creating a positive business impact? \n",
    "Are there any insights that lead to negative growth? Justify with specific reason.\n",
    "\n",
    "5. You have to create at least 20 logical & meaningful charts having important insights.\n",
    "\n",
    "\n",
    "[ Hints : - Do the Vizualization in  a structured way while following \"UBM\" Rule. \n",
    "\n",
    "U - Univariate Analysis,\n",
    "\n",
    "B - Bivariate Analysis (Numerical - Categorical, Numerical - Numerical, Categorical - Categorical)\n",
    "\n",
    "M - Multivariate Analysis\n",
    " ]\n",
    "\n",
    "\n",
    "\n"
   ]
  },
  {
   "cell_type": "markdown",
   "metadata": {
    "id": "O_i_v8NEhb9l"
   },
   "source": [
    "# ***Let's Begin !***"
   ]
  },
  {
   "cell_type": "markdown",
   "metadata": {
    "id": "HhfV-JJviCcP"
   },
   "source": [
    "## ***1. Know Your Data***"
   ]
  },
  {
   "cell_type": "markdown",
   "metadata": {
    "id": "Y3lxredqlCYt"
   },
   "source": [
    "### Import Libraries"
   ]
  },
  {
   "cell_type": "code",
   "execution_count": 95,
   "metadata": {
    "id": "M8Vqi-pPk-HR"
   },
   "outputs": [],
   "source": [
    "# Import Libraries\n",
    "import numpy as np\n",
    "import pandas as pd\n",
    "import matplotlib.pyplot as plt\n",
    "%matplotlib inline\n",
    "from datetime import datetime\n",
    "import seaborn as sns\n",
    "import ast "
   ]
  },
  {
   "cell_type": "markdown",
   "metadata": {
    "id": "3RnN4peoiCZX"
   },
   "source": [
    "### Dataset Loading"
   ]
  },
  {
   "cell_type": "code",
   "execution_count": null,
   "metadata": {
    "colab": {
     "base_uri": "https://localhost:8080/"
    },
    "id": "P3Lg0xZt8hNK",
    "outputId": "df7fee47-ecbf-4b15-b4f3-bbdc7e2bd06f"
   },
   "outputs": [
    {
     "name": "stdout",
     "output_type": "stream",
     "text": [
      "Drive already mounted at /content/drive; to attempt to forcibly remount, call drive.mount(\"/content/drive\", force_remount=True).\n"
     ]
    }
   ],
   "source": [
    "from google.colab import drive\n",
    "drive.mount('/content/drive')"
   ]
  },
  {
   "cell_type": "code",
   "execution_count": 96,
   "metadata": {
    "id": "4CkvbW_SlZ_R"
   },
   "outputs": [],
   "source": [
    "# Load Dataset\n",
    "database = '/Users/farhanakhtar/Desktop/EduNet/EduNet_Project/hotel_bookings.csv'\n",
    "hotel_booking_df = pd.read_csv(database)"
   ]
  },
  {
   "cell_type": "markdown",
   "metadata": {
    "id": "x71ZqKXriCWQ"
   },
   "source": [
    "### Dataset First View"
   ]
  },
  {
   "cell_type": "code",
   "execution_count": 97,
   "metadata": {
    "colab": {
     "base_uri": "https://localhost:8080/"
    },
    "id": "LWNFOSvLl09H",
    "outputId": "0ca83a5c-a706-4eb6-ef23-374ebcacbdec"
   },
   "outputs": [
    {
     "data": {
      "text/html": [
       "<div>\n",
       "<style scoped>\n",
       "    .dataframe tbody tr th:only-of-type {\n",
       "        vertical-align: middle;\n",
       "    }\n",
       "\n",
       "    .dataframe tbody tr th {\n",
       "        vertical-align: top;\n",
       "    }\n",
       "\n",
       "    .dataframe thead th {\n",
       "        text-align: right;\n",
       "    }\n",
       "</style>\n",
       "<table border=\"1\" class=\"dataframe\">\n",
       "  <thead>\n",
       "    <tr style=\"text-align: right;\">\n",
       "      <th></th>\n",
       "      <th>hotel</th>\n",
       "      <th>is_canceled</th>\n",
       "      <th>lead_time</th>\n",
       "      <th>arrival_date_year</th>\n",
       "      <th>arrival_date_month</th>\n",
       "      <th>arrival_date_week_number</th>\n",
       "      <th>arrival_date_day_of_month</th>\n",
       "      <th>stays_in_weekend_nights</th>\n",
       "      <th>stays_in_week_nights</th>\n",
       "      <th>adults</th>\n",
       "      <th>...</th>\n",
       "      <th>deposit_type</th>\n",
       "      <th>agent</th>\n",
       "      <th>company</th>\n",
       "      <th>days_in_waiting_list</th>\n",
       "      <th>customer_type</th>\n",
       "      <th>adr</th>\n",
       "      <th>required_car_parking_spaces</th>\n",
       "      <th>total_of_special_requests</th>\n",
       "      <th>reservation_status</th>\n",
       "      <th>reservation_status_date</th>\n",
       "    </tr>\n",
       "  </thead>\n",
       "  <tbody>\n",
       "    <tr>\n",
       "      <th>0</th>\n",
       "      <td>Resort Hotel</td>\n",
       "      <td>0</td>\n",
       "      <td>342</td>\n",
       "      <td>2015</td>\n",
       "      <td>July</td>\n",
       "      <td>27</td>\n",
       "      <td>1</td>\n",
       "      <td>0</td>\n",
       "      <td>0</td>\n",
       "      <td>2</td>\n",
       "      <td>...</td>\n",
       "      <td>No Deposit</td>\n",
       "      <td>NaN</td>\n",
       "      <td>NaN</td>\n",
       "      <td>0</td>\n",
       "      <td>Transient</td>\n",
       "      <td>0.00</td>\n",
       "      <td>0</td>\n",
       "      <td>0</td>\n",
       "      <td>Check-Out</td>\n",
       "      <td>7/1/2015</td>\n",
       "    </tr>\n",
       "    <tr>\n",
       "      <th>1</th>\n",
       "      <td>Resort Hotel</td>\n",
       "      <td>0</td>\n",
       "      <td>737</td>\n",
       "      <td>2015</td>\n",
       "      <td>July</td>\n",
       "      <td>27</td>\n",
       "      <td>1</td>\n",
       "      <td>0</td>\n",
       "      <td>0</td>\n",
       "      <td>2</td>\n",
       "      <td>...</td>\n",
       "      <td>No Deposit</td>\n",
       "      <td>NaN</td>\n",
       "      <td>NaN</td>\n",
       "      <td>0</td>\n",
       "      <td>Transient</td>\n",
       "      <td>0.00</td>\n",
       "      <td>0</td>\n",
       "      <td>0</td>\n",
       "      <td>Check-Out</td>\n",
       "      <td>7/1/2015</td>\n",
       "    </tr>\n",
       "    <tr>\n",
       "      <th>2</th>\n",
       "      <td>Resort Hotel</td>\n",
       "      <td>0</td>\n",
       "      <td>7</td>\n",
       "      <td>2015</td>\n",
       "      <td>July</td>\n",
       "      <td>27</td>\n",
       "      <td>1</td>\n",
       "      <td>0</td>\n",
       "      <td>1</td>\n",
       "      <td>1</td>\n",
       "      <td>...</td>\n",
       "      <td>No Deposit</td>\n",
       "      <td>NaN</td>\n",
       "      <td>NaN</td>\n",
       "      <td>0</td>\n",
       "      <td>Transient</td>\n",
       "      <td>75.00</td>\n",
       "      <td>0</td>\n",
       "      <td>0</td>\n",
       "      <td>Check-Out</td>\n",
       "      <td>7/2/2015</td>\n",
       "    </tr>\n",
       "    <tr>\n",
       "      <th>3</th>\n",
       "      <td>Resort Hotel</td>\n",
       "      <td>0</td>\n",
       "      <td>13</td>\n",
       "      <td>2015</td>\n",
       "      <td>July</td>\n",
       "      <td>27</td>\n",
       "      <td>1</td>\n",
       "      <td>0</td>\n",
       "      <td>1</td>\n",
       "      <td>1</td>\n",
       "      <td>...</td>\n",
       "      <td>No Deposit</td>\n",
       "      <td>304.0</td>\n",
       "      <td>NaN</td>\n",
       "      <td>0</td>\n",
       "      <td>Transient</td>\n",
       "      <td>75.00</td>\n",
       "      <td>0</td>\n",
       "      <td>0</td>\n",
       "      <td>Check-Out</td>\n",
       "      <td>7/2/2015</td>\n",
       "    </tr>\n",
       "    <tr>\n",
       "      <th>4</th>\n",
       "      <td>Resort Hotel</td>\n",
       "      <td>0</td>\n",
       "      <td>14</td>\n",
       "      <td>2015</td>\n",
       "      <td>July</td>\n",
       "      <td>27</td>\n",
       "      <td>1</td>\n",
       "      <td>0</td>\n",
       "      <td>2</td>\n",
       "      <td>2</td>\n",
       "      <td>...</td>\n",
       "      <td>No Deposit</td>\n",
       "      <td>240.0</td>\n",
       "      <td>NaN</td>\n",
       "      <td>0</td>\n",
       "      <td>Transient</td>\n",
       "      <td>98.00</td>\n",
       "      <td>0</td>\n",
       "      <td>1</td>\n",
       "      <td>Check-Out</td>\n",
       "      <td>7/3/2015</td>\n",
       "    </tr>\n",
       "    <tr>\n",
       "      <th>...</th>\n",
       "      <td>...</td>\n",
       "      <td>...</td>\n",
       "      <td>...</td>\n",
       "      <td>...</td>\n",
       "      <td>...</td>\n",
       "      <td>...</td>\n",
       "      <td>...</td>\n",
       "      <td>...</td>\n",
       "      <td>...</td>\n",
       "      <td>...</td>\n",
       "      <td>...</td>\n",
       "      <td>...</td>\n",
       "      <td>...</td>\n",
       "      <td>...</td>\n",
       "      <td>...</td>\n",
       "      <td>...</td>\n",
       "      <td>...</td>\n",
       "      <td>...</td>\n",
       "      <td>...</td>\n",
       "      <td>...</td>\n",
       "      <td>...</td>\n",
       "    </tr>\n",
       "    <tr>\n",
       "      <th>119385</th>\n",
       "      <td>City Hotel</td>\n",
       "      <td>0</td>\n",
       "      <td>23</td>\n",
       "      <td>2017</td>\n",
       "      <td>August</td>\n",
       "      <td>35</td>\n",
       "      <td>30</td>\n",
       "      <td>2</td>\n",
       "      <td>5</td>\n",
       "      <td>2</td>\n",
       "      <td>...</td>\n",
       "      <td>No Deposit</td>\n",
       "      <td>394.0</td>\n",
       "      <td>NaN</td>\n",
       "      <td>0</td>\n",
       "      <td>Transient</td>\n",
       "      <td>96.14</td>\n",
       "      <td>0</td>\n",
       "      <td>0</td>\n",
       "      <td>Check-Out</td>\n",
       "      <td>9/6/2017</td>\n",
       "    </tr>\n",
       "    <tr>\n",
       "      <th>119386</th>\n",
       "      <td>City Hotel</td>\n",
       "      <td>0</td>\n",
       "      <td>102</td>\n",
       "      <td>2017</td>\n",
       "      <td>August</td>\n",
       "      <td>35</td>\n",
       "      <td>31</td>\n",
       "      <td>2</td>\n",
       "      <td>5</td>\n",
       "      <td>3</td>\n",
       "      <td>...</td>\n",
       "      <td>No Deposit</td>\n",
       "      <td>9.0</td>\n",
       "      <td>NaN</td>\n",
       "      <td>0</td>\n",
       "      <td>Transient</td>\n",
       "      <td>225.43</td>\n",
       "      <td>0</td>\n",
       "      <td>2</td>\n",
       "      <td>Check-Out</td>\n",
       "      <td>9/7/2017</td>\n",
       "    </tr>\n",
       "    <tr>\n",
       "      <th>119387</th>\n",
       "      <td>City Hotel</td>\n",
       "      <td>0</td>\n",
       "      <td>34</td>\n",
       "      <td>2017</td>\n",
       "      <td>August</td>\n",
       "      <td>35</td>\n",
       "      <td>31</td>\n",
       "      <td>2</td>\n",
       "      <td>5</td>\n",
       "      <td>2</td>\n",
       "      <td>...</td>\n",
       "      <td>No Deposit</td>\n",
       "      <td>9.0</td>\n",
       "      <td>NaN</td>\n",
       "      <td>0</td>\n",
       "      <td>Transient</td>\n",
       "      <td>157.71</td>\n",
       "      <td>0</td>\n",
       "      <td>4</td>\n",
       "      <td>Check-Out</td>\n",
       "      <td>9/7/2017</td>\n",
       "    </tr>\n",
       "    <tr>\n",
       "      <th>119388</th>\n",
       "      <td>City Hotel</td>\n",
       "      <td>0</td>\n",
       "      <td>109</td>\n",
       "      <td>2017</td>\n",
       "      <td>August</td>\n",
       "      <td>35</td>\n",
       "      <td>31</td>\n",
       "      <td>2</td>\n",
       "      <td>5</td>\n",
       "      <td>2</td>\n",
       "      <td>...</td>\n",
       "      <td>No Deposit</td>\n",
       "      <td>89.0</td>\n",
       "      <td>NaN</td>\n",
       "      <td>0</td>\n",
       "      <td>Transient</td>\n",
       "      <td>104.40</td>\n",
       "      <td>0</td>\n",
       "      <td>0</td>\n",
       "      <td>Check-Out</td>\n",
       "      <td>9/7/2017</td>\n",
       "    </tr>\n",
       "    <tr>\n",
       "      <th>119389</th>\n",
       "      <td>City Hotel</td>\n",
       "      <td>0</td>\n",
       "      <td>205</td>\n",
       "      <td>2017</td>\n",
       "      <td>August</td>\n",
       "      <td>35</td>\n",
       "      <td>29</td>\n",
       "      <td>2</td>\n",
       "      <td>7</td>\n",
       "      <td>2</td>\n",
       "      <td>...</td>\n",
       "      <td>No Deposit</td>\n",
       "      <td>9.0</td>\n",
       "      <td>NaN</td>\n",
       "      <td>0</td>\n",
       "      <td>Transient</td>\n",
       "      <td>151.20</td>\n",
       "      <td>0</td>\n",
       "      <td>2</td>\n",
       "      <td>Check-Out</td>\n",
       "      <td>9/7/2017</td>\n",
       "    </tr>\n",
       "  </tbody>\n",
       "</table>\n",
       "<p>119390 rows × 32 columns</p>\n",
       "</div>"
      ],
      "text/plain": [
       "               hotel  is_canceled  lead_time  arrival_date_year  \\\n",
       "0       Resort Hotel            0        342               2015   \n",
       "1       Resort Hotel            0        737               2015   \n",
       "2       Resort Hotel            0          7               2015   \n",
       "3       Resort Hotel            0         13               2015   \n",
       "4       Resort Hotel            0         14               2015   \n",
       "...              ...          ...        ...                ...   \n",
       "119385    City Hotel            0         23               2017   \n",
       "119386    City Hotel            0        102               2017   \n",
       "119387    City Hotel            0         34               2017   \n",
       "119388    City Hotel            0        109               2017   \n",
       "119389    City Hotel            0        205               2017   \n",
       "\n",
       "       arrival_date_month  arrival_date_week_number  \\\n",
       "0                    July                        27   \n",
       "1                    July                        27   \n",
       "2                    July                        27   \n",
       "3                    July                        27   \n",
       "4                    July                        27   \n",
       "...                   ...                       ...   \n",
       "119385             August                        35   \n",
       "119386             August                        35   \n",
       "119387             August                        35   \n",
       "119388             August                        35   \n",
       "119389             August                        35   \n",
       "\n",
       "        arrival_date_day_of_month  stays_in_weekend_nights  \\\n",
       "0                               1                        0   \n",
       "1                               1                        0   \n",
       "2                               1                        0   \n",
       "3                               1                        0   \n",
       "4                               1                        0   \n",
       "...                           ...                      ...   \n",
       "119385                         30                        2   \n",
       "119386                         31                        2   \n",
       "119387                         31                        2   \n",
       "119388                         31                        2   \n",
       "119389                         29                        2   \n",
       "\n",
       "        stays_in_week_nights  adults  ...  deposit_type  agent company  \\\n",
       "0                          0       2  ...    No Deposit    NaN     NaN   \n",
       "1                          0       2  ...    No Deposit    NaN     NaN   \n",
       "2                          1       1  ...    No Deposit    NaN     NaN   \n",
       "3                          1       1  ...    No Deposit  304.0     NaN   \n",
       "4                          2       2  ...    No Deposit  240.0     NaN   \n",
       "...                      ...     ...  ...           ...    ...     ...   \n",
       "119385                     5       2  ...    No Deposit  394.0     NaN   \n",
       "119386                     5       3  ...    No Deposit    9.0     NaN   \n",
       "119387                     5       2  ...    No Deposit    9.0     NaN   \n",
       "119388                     5       2  ...    No Deposit   89.0     NaN   \n",
       "119389                     7       2  ...    No Deposit    9.0     NaN   \n",
       "\n",
       "       days_in_waiting_list customer_type     adr  \\\n",
       "0                         0     Transient    0.00   \n",
       "1                         0     Transient    0.00   \n",
       "2                         0     Transient   75.00   \n",
       "3                         0     Transient   75.00   \n",
       "4                         0     Transient   98.00   \n",
       "...                     ...           ...     ...   \n",
       "119385                    0     Transient   96.14   \n",
       "119386                    0     Transient  225.43   \n",
       "119387                    0     Transient  157.71   \n",
       "119388                    0     Transient  104.40   \n",
       "119389                    0     Transient  151.20   \n",
       "\n",
       "        required_car_parking_spaces  total_of_special_requests  \\\n",
       "0                                 0                          0   \n",
       "1                                 0                          0   \n",
       "2                                 0                          0   \n",
       "3                                 0                          0   \n",
       "4                                 0                          1   \n",
       "...                             ...                        ...   \n",
       "119385                            0                          0   \n",
       "119386                            0                          2   \n",
       "119387                            0                          4   \n",
       "119388                            0                          0   \n",
       "119389                            0                          2   \n",
       "\n",
       "        reservation_status reservation_status_date  \n",
       "0                Check-Out                7/1/2015  \n",
       "1                Check-Out                7/1/2015  \n",
       "2                Check-Out                7/2/2015  \n",
       "3                Check-Out                7/2/2015  \n",
       "4                Check-Out                7/3/2015  \n",
       "...                    ...                     ...  \n",
       "119385           Check-Out                9/6/2017  \n",
       "119386           Check-Out                9/7/2017  \n",
       "119387           Check-Out                9/7/2017  \n",
       "119388           Check-Out                9/7/2017  \n",
       "119389           Check-Out                9/7/2017  \n",
       "\n",
       "[119390 rows x 32 columns]"
      ]
     },
     "execution_count": 97,
     "metadata": {},
     "output_type": "execute_result"
    }
   ],
   "source": [
    "# Dataset First Look\n",
    "hotel_booking_df"
   ]
  },
  {
   "cell_type": "markdown",
   "metadata": {
    "id": "7hBIi_osiCS2"
   },
   "source": [
    "### Dataset Rows & Columns count"
   ]
  },
  {
   "cell_type": "code",
   "execution_count": 98,
   "metadata": {
    "colab": {
     "base_uri": "https://localhost:8080/"
    },
    "id": "Kllu7SJgmLij",
    "outputId": "32cbab95-213e-4c1b-cec3-d47480265fea"
   },
   "outputs": [
    {
     "name": "stdout",
     "output_type": "stream",
     "text": [
      "Number of rows 119390\n",
      "Number of columns 32\n"
     ]
    }
   ],
   "source": [
    "# Dataset Rows & Columns count\n",
    "print('Number of rows',hotel_booking_df.shape[0])\n",
    "print('Number of columns',hotel_booking_df.shape[1])"
   ]
  },
  {
   "cell_type": "markdown",
   "metadata": {
    "id": "JlHwYmJAmNHm"
   },
   "source": [
    "### Dataset Information"
   ]
  },
  {
   "cell_type": "code",
   "execution_count": 99,
   "metadata": {
    "colab": {
     "base_uri": "https://localhost:8080/"
    },
    "id": "e9hRXRi6meOf",
    "outputId": "6407dad5-394d-4885-c071-39f63b2e6254"
   },
   "outputs": [
    {
     "name": "stdout",
     "output_type": "stream",
     "text": [
      "<class 'pandas.core.frame.DataFrame'>\n",
      "RangeIndex: 119390 entries, 0 to 119389\n",
      "Data columns (total 32 columns):\n",
      " #   Column                          Non-Null Count   Dtype  \n",
      "---  ------                          --------------   -----  \n",
      " 0   hotel                           119390 non-null  object \n",
      " 1   is_canceled                     119390 non-null  int64  \n",
      " 2   lead_time                       119390 non-null  int64  \n",
      " 3   arrival_date_year               119390 non-null  int64  \n",
      " 4   arrival_date_month              119390 non-null  object \n",
      " 5   arrival_date_week_number        119390 non-null  int64  \n",
      " 6   arrival_date_day_of_month       119390 non-null  int64  \n",
      " 7   stays_in_weekend_nights         119390 non-null  int64  \n",
      " 8   stays_in_week_nights            119390 non-null  int64  \n",
      " 9   adults                          119390 non-null  int64  \n",
      " 10  children                        119386 non-null  float64\n",
      " 11  babies                          119390 non-null  int64  \n",
      " 12  meal                            119390 non-null  object \n",
      " 13  country                         118902 non-null  object \n",
      " 14  market_segment                  119390 non-null  object \n",
      " 15  distribution_channel            119390 non-null  object \n",
      " 16  is_repeated_guest               119390 non-null  int64  \n",
      " 17  previous_cancellations          119390 non-null  int64  \n",
      " 18  previous_bookings_not_canceled  119390 non-null  int64  \n",
      " 19  reserved_room_type              119390 non-null  object \n",
      " 20  assigned_room_type              119390 non-null  object \n",
      " 21  booking_changes                 119390 non-null  int64  \n",
      " 22  deposit_type                    119390 non-null  object \n",
      " 23  agent                           103050 non-null  float64\n",
      " 24  company                         6797 non-null    float64\n",
      " 25  days_in_waiting_list            119390 non-null  int64  \n",
      " 26  customer_type                   119390 non-null  object \n",
      " 27  adr                             119390 non-null  float64\n",
      " 28  required_car_parking_spaces     119390 non-null  int64  \n",
      " 29  total_of_special_requests       119390 non-null  int64  \n",
      " 30  reservation_status              119390 non-null  object \n",
      " 31  reservation_status_date         119390 non-null  object \n",
      "dtypes: float64(4), int64(16), object(12)\n",
      "memory usage: 29.1+ MB\n"
     ]
    }
   ],
   "source": [
    "# Dataset Info\n",
    "hotel_booking_df.info()"
   ]
  },
  {
   "cell_type": "markdown",
   "metadata": {
    "id": "35m5QtbWiB9F"
   },
   "source": [
    "#### Duplicate Values"
   ]
  },
  {
   "cell_type": "code",
   "execution_count": 100,
   "metadata": {
    "colab": {
     "base_uri": "https://localhost:8080/"
    },
    "id": "1sLdpKYkmox0",
    "outputId": "71256762-74a4-44c1-9312-47629d97dcfb"
   },
   "outputs": [
    {
     "data": {
      "text/plain": [
       "31994"
      ]
     },
     "execution_count": 100,
     "metadata": {},
     "output_type": "execute_result"
    }
   ],
   "source": [
    "# Dataset Duplicate Value Count\n",
    "len(hotel_booking_df[hotel_booking_df.duplicated()])\n",
    "\n",
    "# Thus, this dataset contains 31994 duplicate values"
   ]
  },
  {
   "cell_type": "code",
   "execution_count": 101,
   "metadata": {
    "colab": {
     "base_uri": "https://localhost:8080/"
    },
    "id": "AL4XaLMtFwvz",
    "outputId": "1439e5e7-a537-439b-b9ee-b513f6ff0c6d"
   },
   "outputs": [
    {
     "data": {
      "image/png": "[encoded data removed]",
      "text/plain": [
       "<Figure size 800x700 with 1 Axes>"
      ]
     },
     "metadata": {},
     "output_type": "display_data"
    }
   ],
   "source": [
    "# Visualizing Duplicate values through Count plot\n",
    "# Set the plot size\n",
    "plt.figure(figsize = (8,7))\n",
    "\n",
    "# Create the figure object\n",
    "sns.countplot(x=hotel_booking_df.duplicated())\n",
    "\n",
    "# Set labels\n",
    "plt.xticks([0,1],[\"Non Duplicate Values\",\"Duplicate Values\"],fontsize = 12)\n",
    "\n",
    "# To show\n",
    "plt.show()"
   ]
  },
  {
   "cell_type": "markdown",
   "metadata": {
    "id": "PoPl-ycgm1ru"
   },
   "source": [
    "#### Missing Values/Null Values"
   ]
  },
  {
   "cell_type": "code",
   "execution_count": 102,
   "metadata": {
    "colab": {
     "base_uri": "https://localhost:8080/"
    },
    "id": "GgHWkxvamxVg",
    "outputId": "94bf8473-84c4-426a-86b7-22ccbfac274a"
   },
   "outputs": [
    {
     "data": {
      "text/plain": [
       "company                           112593\n",
       "agent                              16340\n",
       "country                              488\n",
       "children                               4\n",
       "reserved_room_type                     0\n",
       "assigned_room_type                     0\n",
       "booking_changes                        0\n",
       "deposit_type                           0\n",
       "hotel                                  0\n",
       "previous_cancellations                 0\n",
       "days_in_waiting_list                   0\n",
       "customer_type                          0\n",
       "adr                                    0\n",
       "required_car_parking_spaces            0\n",
       "total_of_special_requests              0\n",
       "reservation_status                     0\n",
       "previous_bookings_not_canceled         0\n",
       "is_repeated_guest                      0\n",
       "is_canceled                            0\n",
       "distribution_channel                   0\n",
       "market_segment                         0\n",
       "meal                                   0\n",
       "babies                                 0\n",
       "adults                                 0\n",
       "stays_in_week_nights                   0\n",
       "stays_in_weekend_nights                0\n",
       "arrival_date_day_of_month              0\n",
       "arrival_date_week_number               0\n",
       "arrival_date_month                     0\n",
       "arrival_date_year                      0\n",
       "lead_time                              0\n",
       "reservation_status_date                0\n",
       "dtype: int64"
      ]
     },
     "execution_count": 102,
     "metadata": {},
     "output_type": "execute_result"
    }
   ],
   "source": [
    "# Missing Values/Null Values Count\n",
    "# Checking Missing Values/Null Values Count in individual columns\n",
    "hotel_booking_df.isnull().sum().sort_values(ascending=False)\n",
    "\n",
    "# Getting missing Values/Null Values Count in descending order to get a organized output"
   ]
  },
  {
   "cell_type": "code",
   "execution_count": 103,
   "metadata": {
    "colab": {
     "base_uri": "https://localhost:8080/"
    },
    "id": "3q5wnI3om9sJ",
    "outputId": "7de2e8b2-eefa-4d48-a482-ba4f50d5bc7d"
   },
   "outputs": [
    {
     "data": {
      "image/png": "[encoded data removed]",
      "text/plain": [
       "<Figure size 1500x1100 with 2 Axes>"
      ]
     },
     "metadata": {},
     "output_type": "display_data"
    }
   ],
   "source": [
    "# Visualizing the missing values\n",
    "# Set the plot size\n",
    "plt.figure(figsize = (15,11))\n",
    "\n",
    "# Create the figure object\n",
    "sns.heatmap(hotel_booking_df.isnull().corr(), vmin=-1, annot= True)\n",
    "\n",
    "# Set labels\n",
    "plt.xlabel('Name of columns', fontsize=15)\n",
    "plt.ylabel('Name of columns', fontsize=13)\n",
    "plt.title('Places of missing values in Dataset', fontsize=17)\n",
    "\n",
    "# To show\n",
    "plt.show()"
   ]
  },
  {
   "cell_type": "markdown",
   "metadata": {
    "id": "H0kj-8xxnORC"
   },
   "source": [
    "### What did you know about your dataset?"
   ]
  },
  {
   "cell_type": "markdown",
   "metadata": {
    "id": "gfoNAAC-nUe_"
   },
   "source": [
    "\n",
    "*   This data set contains a single file which compares various booking information between two hotels: City Hotel and Resort Hotel. Includes information such as when the booking was made, length of stay, the number of adults, children, and/or babies, and the number of available parking spaces, among other things.\n",
    "\n",
    "*   The dataset contains a total of 119390 rows and 32 columns.\n",
    "\n",
    "*   All the columns are divided into three dtypes : Object, float64 and int64.\n",
    "\n",
    "*   This dataset does have duplicated values as well as null values. There are total of 31994 duplicate values and four columns have missing values/ null values.\n",
    "\n",
    "*   The maximum number of missing values are from 'Company' column then followed by 'Agent', 'Country' and 'Children' columns. The 'Children' column consists of only 4 null values, while 'Company' column consists of 112593 null values.\n"
   ]
  },
  {
   "cell_type": "markdown",
   "metadata": {
    "id": "nA9Y7ga8ng1Z"
   },
   "source": [
    "## ***2. Understanding Your Variables***"
   ]
  },
  {
   "cell_type": "code",
   "execution_count": 104,
   "metadata": {
    "colab": {
     "base_uri": "https://localhost:8080/"
    },
    "id": "j7xfkqrt5Ag5",
    "outputId": "114cc8c7-d340-4f94-efdd-013f20d08ee1"
   },
   "outputs": [
    {
     "data": {
      "text/plain": [
       "Index(['hotel', 'is_canceled', 'lead_time', 'arrival_date_year',\n",
       "       'arrival_date_month', 'arrival_date_week_number',\n",
       "       'arrival_date_day_of_month', 'stays_in_weekend_nights',\n",
       "       'stays_in_week_nights', 'adults', 'children', 'babies', 'meal',\n",
       "       'country', 'market_segment', 'distribution_channel',\n",
       "       'is_repeated_guest', 'previous_cancellations',\n",
       "       'previous_bookings_not_canceled', 'reserved_room_type',\n",
       "       'assigned_room_type', 'booking_changes', 'deposit_type', 'agent',\n",
       "       'company', 'days_in_waiting_list', 'customer_type', 'adr',\n",
       "       'required_car_parking_spaces', 'total_of_special_requests',\n",
       "       'reservation_status', 'reservation_status_date'],\n",
       "      dtype='object')"
      ]
     },
     "execution_count": 104,
     "metadata": {},
     "output_type": "execute_result"
    }
   ],
   "source": [
    "# Dataset Columns\n",
    "hotel_booking_df.columns\n",
    "\n",
    "# Getting all the columns name of dataset"
   ]
  },
  {
   "cell_type": "code",
   "execution_count": 105,
   "metadata": {
    "colab": {
     "base_uri": "https://localhost:8080/"
    },
    "id": "DnOaZdaE5Q5t",
    "outputId": "74975469-9170-45f9-886f-269d662dc7ba"
   },
   "outputs": [
    {
     "data": {
      "text/html": [
       "<div>\n",
       "<style scoped>\n",
       "    .dataframe tbody tr th:only-of-type {\n",
       "        vertical-align: middle;\n",
       "    }\n",
       "\n",
       "    .dataframe tbody tr th {\n",
       "        vertical-align: top;\n",
       "    }\n",
       "\n",
       "    .dataframe thead th {\n",
       "        text-align: right;\n",
       "    }\n",
       "</style>\n",
       "<table border=\"1\" class=\"dataframe\">\n",
       "  <thead>\n",
       "    <tr style=\"text-align: right;\">\n",
       "      <th></th>\n",
       "      <th>is_canceled</th>\n",
       "      <th>lead_time</th>\n",
       "      <th>arrival_date_year</th>\n",
       "      <th>arrival_date_week_number</th>\n",
       "      <th>arrival_date_day_of_month</th>\n",
       "      <th>stays_in_weekend_nights</th>\n",
       "      <th>stays_in_week_nights</th>\n",
       "      <th>adults</th>\n",
       "      <th>children</th>\n",
       "      <th>babies</th>\n",
       "      <th>is_repeated_guest</th>\n",
       "      <th>previous_cancellations</th>\n",
       "      <th>previous_bookings_not_canceled</th>\n",
       "      <th>booking_changes</th>\n",
       "      <th>agent</th>\n",
       "      <th>company</th>\n",
       "      <th>days_in_waiting_list</th>\n",
       "      <th>adr</th>\n",
       "      <th>required_car_parking_spaces</th>\n",
       "      <th>total_of_special_requests</th>\n",
       "    </tr>\n",
       "  </thead>\n",
       "  <tbody>\n",
       "    <tr>\n",
       "      <th>count</th>\n",
       "      <td>119390.000000</td>\n",
       "      <td>119390.000000</td>\n",
       "      <td>119390.000000</td>\n",
       "      <td>119390.000000</td>\n",
       "      <td>119390.000000</td>\n",
       "      <td>119390.000000</td>\n",
       "      <td>119390.000000</td>\n",
       "      <td>119390.000000</td>\n",
       "      <td>119386.000000</td>\n",
       "      <td>119390.000000</td>\n",
       "      <td>119390.000000</td>\n",
       "      <td>119390.000000</td>\n",
       "      <td>119390.000000</td>\n",
       "      <td>119390.000000</td>\n",
       "      <td>103050.000000</td>\n",
       "      <td>6797.000000</td>\n",
       "      <td>119390.000000</td>\n",
       "      <td>119390.000000</td>\n",
       "      <td>119390.000000</td>\n",
       "      <td>119390.000000</td>\n",
       "    </tr>\n",
       "    <tr>\n",
       "      <th>mean</th>\n",
       "      <td>0.370416</td>\n",
       "      <td>104.011416</td>\n",
       "      <td>2016.156554</td>\n",
       "      <td>27.165173</td>\n",
       "      <td>15.798241</td>\n",
       "      <td>0.927599</td>\n",
       "      <td>2.500302</td>\n",
       "      <td>1.856403</td>\n",
       "      <td>0.103890</td>\n",
       "      <td>0.007949</td>\n",
       "      <td>0.031912</td>\n",
       "      <td>0.087118</td>\n",
       "      <td>0.137097</td>\n",
       "      <td>0.221124</td>\n",
       "      <td>86.693382</td>\n",
       "      <td>189.266735</td>\n",
       "      <td>2.321149</td>\n",
       "      <td>101.831122</td>\n",
       "      <td>0.062518</td>\n",
       "      <td>0.571363</td>\n",
       "    </tr>\n",
       "    <tr>\n",
       "      <th>std</th>\n",
       "      <td>0.482918</td>\n",
       "      <td>106.863097</td>\n",
       "      <td>0.707476</td>\n",
       "      <td>13.605138</td>\n",
       "      <td>8.780829</td>\n",
       "      <td>0.998613</td>\n",
       "      <td>1.908286</td>\n",
       "      <td>0.579261</td>\n",
       "      <td>0.398561</td>\n",
       "      <td>0.097436</td>\n",
       "      <td>0.175767</td>\n",
       "      <td>0.844336</td>\n",
       "      <td>1.497437</td>\n",
       "      <td>0.652306</td>\n",
       "      <td>110.774548</td>\n",
       "      <td>131.655015</td>\n",
       "      <td>17.594721</td>\n",
       "      <td>50.535790</td>\n",
       "      <td>0.245291</td>\n",
       "      <td>0.792798</td>\n",
       "    </tr>\n",
       "    <tr>\n",
       "      <th>min</th>\n",
       "      <td>0.000000</td>\n",
       "      <td>0.000000</td>\n",
       "      <td>2015.000000</td>\n",
       "      <td>1.000000</td>\n",
       "      <td>1.000000</td>\n",
       "      <td>0.000000</td>\n",
       "      <td>0.000000</td>\n",
       "      <td>0.000000</td>\n",
       "      <td>0.000000</td>\n",
       "      <td>0.000000</td>\n",
       "      <td>0.000000</td>\n",
       "      <td>0.000000</td>\n",
       "      <td>0.000000</td>\n",
       "      <td>0.000000</td>\n",
       "      <td>1.000000</td>\n",
       "      <td>6.000000</td>\n",
       "      <td>0.000000</td>\n",
       "      <td>-6.380000</td>\n",
       "      <td>0.000000</td>\n",
       "      <td>0.000000</td>\n",
       "    </tr>\n",
       "    <tr>\n",
       "      <th>25%</th>\n",
       "      <td>0.000000</td>\n",
       "      <td>18.000000</td>\n",
       "      <td>2016.000000</td>\n",
       "      <td>16.000000</td>\n",
       "      <td>8.000000</td>\n",
       "      <td>0.000000</td>\n",
       "      <td>1.000000</td>\n",
       "      <td>2.000000</td>\n",
       "      <td>0.000000</td>\n",
       "      <td>0.000000</td>\n",
       "      <td>0.000000</td>\n",
       "      <td>0.000000</td>\n",
       "      <td>0.000000</td>\n",
       "      <td>0.000000</td>\n",
       "      <td>9.000000</td>\n",
       "      <td>62.000000</td>\n",
       "      <td>0.000000</td>\n",
       "      <td>69.290000</td>\n",
       "      <td>0.000000</td>\n",
       "      <td>0.000000</td>\n",
       "    </tr>\n",
       "    <tr>\n",
       "      <th>50%</th>\n",
       "      <td>0.000000</td>\n",
       "      <td>69.000000</td>\n",
       "      <td>2016.000000</td>\n",
       "      <td>28.000000</td>\n",
       "      <td>16.000000</td>\n",
       "      <td>1.000000</td>\n",
       "      <td>2.000000</td>\n",
       "      <td>2.000000</td>\n",
       "      <td>0.000000</td>\n",
       "      <td>0.000000</td>\n",
       "      <td>0.000000</td>\n",
       "      <td>0.000000</td>\n",
       "      <td>0.000000</td>\n",
       "      <td>0.000000</td>\n",
       "      <td>14.000000</td>\n",
       "      <td>179.000000</td>\n",
       "      <td>0.000000</td>\n",
       "      <td>94.575000</td>\n",
       "      <td>0.000000</td>\n",
       "      <td>0.000000</td>\n",
       "    </tr>\n",
       "    <tr>\n",
       "      <th>75%</th>\n",
       "      <td>1.000000</td>\n",
       "      <td>160.000000</td>\n",
       "      <td>2017.000000</td>\n",
       "      <td>38.000000</td>\n",
       "      <td>23.000000</td>\n",
       "      <td>2.000000</td>\n",
       "      <td>3.000000</td>\n",
       "      <td>2.000000</td>\n",
       "      <td>0.000000</td>\n",
       "      <td>0.000000</td>\n",
       "      <td>0.000000</td>\n",
       "      <td>0.000000</td>\n",
       "      <td>0.000000</td>\n",
       "      <td>0.000000</td>\n",
       "      <td>229.000000</td>\n",
       "      <td>270.000000</td>\n",
       "      <td>0.000000</td>\n",
       "      <td>126.000000</td>\n",
       "      <td>0.000000</td>\n",
       "      <td>1.000000</td>\n",
       "    </tr>\n",
       "    <tr>\n",
       "      <th>max</th>\n",
       "      <td>1.000000</td>\n",
       "      <td>737.000000</td>\n",
       "      <td>2017.000000</td>\n",
       "      <td>53.000000</td>\n",
       "      <td>31.000000</td>\n",
       "      <td>19.000000</td>\n",
       "      <td>50.000000</td>\n",
       "      <td>55.000000</td>\n",
       "      <td>10.000000</td>\n",
       "      <td>10.000000</td>\n",
       "      <td>1.000000</td>\n",
       "      <td>26.000000</td>\n",
       "      <td>72.000000</td>\n",
       "      <td>21.000000</td>\n",
       "      <td>535.000000</td>\n",
       "      <td>543.000000</td>\n",
       "      <td>391.000000</td>\n",
       "      <td>5400.000000</td>\n",
       "      <td>8.000000</td>\n",
       "      <td>5.000000</td>\n",
       "    </tr>\n",
       "  </tbody>\n",
       "</table>\n",
       "</div>"
      ],
      "text/plain": [
       "         is_canceled      lead_time  arrival_date_year  \\\n",
       "count  119390.000000  119390.000000      119390.000000   \n",
       "mean        0.370416     104.011416        2016.156554   \n",
       "std         0.482918     106.863097           0.707476   \n",
       "min         0.000000       0.000000        2015.000000   \n",
       "25%         0.000000      18.000000        2016.000000   \n",
       "50%         0.000000      69.000000        2016.000000   \n",
       "75%         1.000000     160.000000        2017.000000   \n",
       "max         1.000000     737.000000        2017.000000   \n",
       "\n",
       "       arrival_date_week_number  arrival_date_day_of_month  \\\n",
       "count             119390.000000              119390.000000   \n",
       "mean                  27.165173                  15.798241   \n",
       "std                   13.605138                   8.780829   \n",
       "min                    1.000000                   1.000000   \n",
       "25%                   16.000000                   8.000000   \n",
       "50%                   28.000000                  16.000000   \n",
       "75%                   38.000000                  23.000000   \n",
       "max                   53.000000                  31.000000   \n",
       "\n",
       "       stays_in_weekend_nights  stays_in_week_nights         adults  \\\n",
       "count            119390.000000         119390.000000  119390.000000   \n",
       "mean                  0.927599              2.500302       1.856403   \n",
       "std                   0.998613              1.908286       0.579261   \n",
       "min                   0.000000              0.000000       0.000000   \n",
       "25%                   0.000000              1.000000       2.000000   \n",
       "50%                   1.000000              2.000000       2.000000   \n",
       "75%                   2.000000              3.000000       2.000000   \n",
       "max                  19.000000             50.000000      55.000000   \n",
       "\n",
       "            children         babies  is_repeated_guest  \\\n",
       "count  119386.000000  119390.000000      119390.000000   \n",
       "mean        0.103890       0.007949           0.031912   \n",
       "std         0.398561       0.097436           0.175767   \n",
       "min         0.000000       0.000000           0.000000   \n",
       "25%         0.000000       0.000000           0.000000   \n",
       "50%         0.000000       0.000000           0.000000   \n",
       "75%         0.000000       0.000000           0.000000   \n",
       "max        10.000000      10.000000           1.000000   \n",
       "\n",
       "       previous_cancellations  previous_bookings_not_canceled  \\\n",
       "count           119390.000000                   119390.000000   \n",
       "mean                 0.087118                        0.137097   \n",
       "std                  0.844336                        1.497437   \n",
       "min                  0.000000                        0.000000   \n",
       "25%                  0.000000                        0.000000   \n",
       "50%                  0.000000                        0.000000   \n",
       "75%                  0.000000                        0.000000   \n",
       "max                 26.000000                       72.000000   \n",
       "\n",
       "       booking_changes          agent      company  days_in_waiting_list  \\\n",
       "count    119390.000000  103050.000000  6797.000000         119390.000000   \n",
       "mean          0.221124      86.693382   189.266735              2.321149   \n",
       "std           0.652306     110.774548   131.655015             17.594721   \n",
       "min           0.000000       1.000000     6.000000              0.000000   \n",
       "25%           0.000000       9.000000    62.000000              0.000000   \n",
       "50%           0.000000      14.000000   179.000000              0.000000   \n",
       "75%           0.000000     229.000000   270.000000              0.000000   \n",
       "max          21.000000     535.000000   543.000000            391.000000   \n",
       "\n",
       "                 adr  required_car_parking_spaces  total_of_special_requests  \n",
       "count  119390.000000                119390.000000              119390.000000  \n",
       "mean      101.831122                     0.062518                   0.571363  \n",
       "std        50.535790                     0.245291                   0.792798  \n",
       "min        -6.380000                     0.000000                   0.000000  \n",
       "25%        69.290000                     0.000000                   0.000000  \n",
       "50%        94.575000                     0.000000                   0.000000  \n",
       "75%       126.000000                     0.000000                   1.000000  \n",
       "max      5400.000000                     8.000000                   5.000000  "
      ]
     },
     "execution_count": 105,
     "metadata": {},
     "output_type": "execute_result"
    }
   ],
   "source": [
    "# Dataset Describe\n",
    "hotel_booking_df.describe()\n",
    "\n",
    "# Describe data for insights"
   ]
  },
  {
   "cell_type": "markdown",
   "metadata": {
    "id": "PBTbrJXOngz2"
   },
   "source": [
    "### Variables Description "
   ]
  },
  {
   "cell_type": "markdown",
   "metadata": {
    "id": "aJV4KIxSnxay"
   },
   "source": [
    "\n",
    "1. **hotel :** Name of the hotel (Resort Hotel or City Hotel)\n",
    "\n",
    "2. **is_canceled :** If the booking was canceled (1) or not (0)\n",
    "\n",
    "3. **lead_time:** Number of days before the actual arrival of the guests\n",
    "\n",
    "4. **arrival_date_year :** Year of arrival date\n",
    "\n",
    "5. **arrival_date_month :** Month of arrival date\n",
    "\n",
    "6. **arrival_date_week_number :** Week number of year for arrival date\n",
    "\n",
    "7. **arrival_date_day_of_month :** Day of arrival date\n",
    "\n",
    "8. **stays_in_weekend_nights :** Number of weekend nights (Saturday or Sunday) spent at the hotel by the guests.\n",
    "\n",
    "9. **stays_in_week_nights :** Number of weeknights (Monday to Friday) spent at the hotel by the guests.\n",
    "\n",
    "10. **adults :** Number of adults among guests\n",
    "\n",
    "11. **children :** Number of children among guests\n",
    "\n",
    "12. **babies :** Number of babies among guests\n",
    "\n",
    "13. **meal :** Type of meal booked\n",
    "\n",
    "14. **country :** Country of guests\n",
    "\n",
    "15. **market_segment :** Designation of market segment\n",
    "\n",
    "16. **distribution_channel :** Name of booking distribution channel\n",
    "\n",
    "17. **is_repeated_guest :** If the booking was from a repeated guest (1) or not (0)\n",
    "\n",
    "18. **previous_cancellations :** Number of previous bookings that were cancelled by the customer prior to the current booking\n",
    "\n",
    "19. **previous_bookings_not_canceled :** Number of previous bookings not cancelled by the customer prior to the current booking\n",
    "\n",
    "20. **reserved_room_type :** Code of room type reserved\n",
    "\n",
    "21. **assigned_room_type :** Code of room type assigned\n",
    "\n",
    "22. **booking_changes :** Number of changes/amendments made to the booking\n",
    "\n",
    "23. **deposit_type :** Type of the deposit made by the guest\n",
    "\n",
    "24. **agent :** ID of travel agent who made the booking\n",
    "\n",
    "25. **company :** ID of the company that made the booking\n",
    "\n",
    "26. **days_in_waiting_list :** Number of days the booking was in the waiting list\n",
    "\n",
    "27. **customer_type :** Type of customer, assuming one of four categories\n",
    "\n",
    "28. **adr :** Average Daily Rate, as defined by dividing the sum of all lodging transactions by the total number of staying nights\n",
    "\n",
    "29. **required_car_parking_spaces :** Number of car parking spaces required by the customer\n",
    "\n",
    "30. **total_of_special_requests :** Number of special requests made by the customer\n",
    "\n",
    "31. **reservation_status :** Reservation status (Canceled, Check-Out or No-Show)\n",
    "\n",
    "32. **reservation_status_date :** Date at which the last reservation status was updated"
   ]
  },
  {
   "cell_type": "markdown",
   "metadata": {
    "id": "u3PMJOP6ngxN"
   },
   "source": [
    "### Check Unique Values for each variable."
   ]
  },
  {
   "cell_type": "code",
   "execution_count": 106,
   "metadata": {
    "colab": {
     "base_uri": "https://localhost:8080/"
    },
    "id": "zms12Yq5n-jE",
    "outputId": "a2e6d65e-0478-4825-d489-d9cdcb543a7e"
   },
   "outputs": [
    {
     "name": "stdout",
     "output_type": "stream",
     "text": [
      "Number of unique values in hotel column is 2\n",
      "Number of unique values in is_canceled column is 2\n",
      "Number of unique values in lead_time column is 479\n",
      "Number of unique values in arrival_date_year column is 3\n",
      "Number of unique values in arrival_date_month column is 12\n",
      "Number of unique values in arrival_date_week_number column is 53\n",
      "Number of unique values in arrival_date_day_of_month column is 31\n",
      "Number of unique values in stays_in_weekend_nights column is 17\n",
      "Number of unique values in stays_in_week_nights column is 35\n",
      "Number of unique values in adults column is 14\n",
      "Number of unique values in children column is 5\n",
      "Number of unique values in babies column is 5\n",
      "Number of unique values in meal column is 5\n",
      "Number of unique values in country column is 177\n",
      "Number of unique values in market_segment column is 8\n",
      "Number of unique values in distribution_channel column is 5\n",
      "Number of unique values in is_repeated_guest column is 2\n",
      "Number of unique values in previous_cancellations column is 15\n",
      "Number of unique values in previous_bookings_not_canceled column is 73\n",
      "Number of unique values in reserved_room_type column is 10\n",
      "Number of unique values in assigned_room_type column is 12\n",
      "Number of unique values in booking_changes column is 21\n",
      "Number of unique values in deposit_type column is 3\n",
      "Number of unique values in agent column is 333\n",
      "Number of unique values in company column is 352\n",
      "Number of unique values in days_in_waiting_list column is 128\n",
      "Number of unique values in customer_type column is 4\n",
      "Number of unique values in adr column is 8879\n",
      "Number of unique values in required_car_parking_spaces column is 5\n",
      "Number of unique values in total_of_special_requests column is 6\n",
      "Number of unique values in reservation_status column is 3\n",
      "Number of unique values in reservation_status_date column is 926\n"
     ]
    }
   ],
   "source": [
    "# Check Unique Values for each variable.\n",
    "# Checking the number of Unique Values for each variable\n",
    "\n",
    "for elem in hotel_booking_df.columns:\n",
    "  print('Number of unique values in',elem,'column is',hotel_booking_df[elem].nunique())\n",
    "\n",
    "# Using for-loop for each variable of Dataset"
   ]
  },
  {
   "cell_type": "code",
   "execution_count": 107,
   "metadata": {
    "colab": {
     "base_uri": "https://localhost:8080/"
    },
    "id": "4WKt2PyQQbdk",
    "outputId": "3d142689-4a8e-4de2-f099-c63041b795e2"
   },
   "outputs": [
    {
     "data": {
      "text/plain": [
       "array(['Resort Hotel', 'City Hotel'], dtype=object)"
      ]
     },
     "execution_count": 107,
     "metadata": {},
     "output_type": "execute_result"
    }
   ],
   "source": [
    "# Checking Unique Values in categorical columns one by one\n",
    "# Checking Unique Values in Hotel column\n",
    "hotel_booking_df['hotel'].unique()"
   ]
  },
  {
   "cell_type": "code",
   "execution_count": 108,
   "metadata": {
    "colab": {
     "base_uri": "https://localhost:8080/"
    },
    "id": "AmkQsBHeRJOi",
    "outputId": "d87b0cf2-f2bf-4c01-fdbe-cfcf84ef5b48"
   },
   "outputs": [
    {
     "data": {
      "text/plain": [
       "array([0, 1])"
      ]
     },
     "execution_count": 108,
     "metadata": {},
     "output_type": "execute_result"
    }
   ],
   "source": [
    "# Checking Unique Values in is_canceled column\n",
    "hotel_booking_df['is_canceled'].unique()"
   ]
  },
  {
   "cell_type": "code",
   "execution_count": 109,
   "metadata": {
    "colab": {
     "base_uri": "https://localhost:8080/"
    },
    "id": "8n6Q3DE2SFJu",
    "outputId": "6f612ab9-1dae-4527-94d9-d8e86ee730fb"
   },
   "outputs": [
    {
     "data": {
      "text/plain": [
       "array([342, 737,   7,  13,  14,   0,   9,  85,  75,  23,  35,  68,  18,\n",
       "        37,  12,  72, 127,  78,  48,  60,  77,  99, 118,  95,  96,  69,\n",
       "        45,  40,  15,  36,  43,  70,  16, 107,  47, 113,  90,  50,  93,\n",
       "        76,   3,   1,  10,   5,  17,  51,  71,  63,  62, 101,   2,  81,\n",
       "       368, 364, 324,  79,  21, 109, 102,   4,  98,  92,  26,  73, 115,\n",
       "        86,  52,  29,  30,  33,  32,   8, 100,  44,  80,  97,  64,  39,\n",
       "        34,  27,  82,  94, 110, 111,  84,  66, 104,  28, 258, 112,  65,\n",
       "        67,  55,  88,  54, 292,  83, 105, 280, 394,  24, 103, 366, 249,\n",
       "        22,  91,  11, 108, 106,  31,  87,  41, 304, 117,  59,  53,  58,\n",
       "       116,  42, 321,  38,  56,  49, 317,   6,  57,  19,  25, 315, 123,\n",
       "        46,  89,  61, 312, 299, 130,  74, 298, 119,  20, 286, 136, 129,\n",
       "       124, 327, 131, 460, 140, 114, 139, 122, 137, 126, 120, 128, 135,\n",
       "       150, 143, 151, 132, 125, 157, 147, 138, 156, 164, 346, 159, 160,\n",
       "       161, 333, 381, 149, 154, 297, 163, 314, 155, 323, 340, 356, 142,\n",
       "       328, 144, 336, 248, 302, 175, 344, 382, 146, 170, 166, 338, 167,\n",
       "       310, 148, 165, 172, 171, 145, 121, 178, 305, 173, 152, 354, 347,\n",
       "       158, 185, 349, 183, 352, 177, 200, 192, 361, 207, 174, 330, 134,\n",
       "       350, 334, 283, 153, 197, 133, 241, 193, 235, 194, 261, 260, 216,\n",
       "       169, 209, 238, 215, 141, 189, 187, 223, 284, 214, 202, 211, 168,\n",
       "       230, 203, 188, 232, 709, 219, 162, 196, 190, 259, 228, 176, 250,\n",
       "       201, 186, 199, 180, 206, 205, 224, 222, 182, 210, 275, 212, 229,\n",
       "       218, 208, 191, 181, 179, 246, 255, 226, 288, 253, 252, 262, 236,\n",
       "       256, 234, 254, 468, 213, 237, 198, 195, 239, 263, 265, 274, 217,\n",
       "       220, 307, 221, 233, 257, 227, 276, 225, 264, 311, 277, 204, 290,\n",
       "       266, 270, 294, 319, 282, 251, 322, 291, 269, 240, 271, 184, 231,\n",
       "       268, 247, 273, 300, 301, 267, 244, 306, 293, 309, 272, 242, 295,\n",
       "       285, 243, 308, 398, 303, 245, 424, 279, 331, 281, 339, 434, 357,\n",
       "       325, 329, 278, 332, 343, 345, 360, 348, 367, 353, 373, 374, 406,\n",
       "       400, 326, 379, 399, 316, 341, 320, 385, 355, 363, 358, 296, 422,\n",
       "       390, 335, 370, 376, 375, 397, 289, 542, 403, 383, 384, 359, 393,\n",
       "       337, 362, 365, 435, 386, 378, 313, 351, 287, 471, 462, 411, 450,\n",
       "       318, 372, 371, 454, 532, 445, 389, 388, 407, 443, 437, 451, 391,\n",
       "       405, 412, 419, 420, 426, 433, 440, 429, 418, 447, 461, 605, 457,\n",
       "       475, 464, 482, 626, 489, 496, 503, 510, 517, 524, 531, 538, 545,\n",
       "       552, 559, 566, 573, 580, 587, 594, 601, 608, 615, 622, 629, 396,\n",
       "       410, 395, 423, 408, 409, 448, 465, 387, 414, 476, 479, 467, 490,\n",
       "       493, 478, 504, 507, 458, 518, 521, 377, 444, 380, 463])"
      ]
     },
     "execution_count": 109,
     "metadata": {},
     "output_type": "execute_result"
    }
   ],
   "source": [
    "# Checking Unique Values in lead_time column\n",
    "hotel_booking_df['lead_time'].unique()"
   ]
  },
  {
   "cell_type": "code",
   "execution_count": 110,
   "metadata": {
    "colab": {
     "base_uri": "https://localhost:8080/"
    },
    "id": "VMn6t9XkSL_O",
    "outputId": "5dd55340-f646-4d8c-aff4-bbb2f08a3f55"
   },
   "outputs": [
    {
     "data": {
      "text/plain": [
       "array([2015, 2016, 2017])"
      ]
     },
     "execution_count": 110,
     "metadata": {},
     "output_type": "execute_result"
    }
   ],
   "source": [
    "# Checking Unique Values in arrival_date_year column\n",
    "hotel_booking_df['arrival_date_year'].unique()"
   ]
  },
  {
   "cell_type": "code",
   "execution_count": 111,
   "metadata": {
    "colab": {
     "base_uri": "https://localhost:8080/"
    },
    "id": "GumV97tESXGr",
    "outputId": "e6e77438-bb7e-4a61-ad3a-f1eb6e881548"
   },
   "outputs": [
    {
     "data": {
      "text/plain": [
       "array(['July', 'August', 'September', 'October', 'November', 'December',\n",
       "       'January', 'February', 'March', 'April', 'May', 'June'],\n",
       "      dtype=object)"
      ]
     },
     "execution_count": 111,
     "metadata": {},
     "output_type": "execute_result"
    }
   ],
   "source": [
    "# Checking Unique Values in arrival_date_month column\n",
    "hotel_booking_df['arrival_date_month'].unique()"
   ]
  },
  {
   "cell_type": "code",
   "execution_count": 112,
   "metadata": {
    "colab": {
     "base_uri": "https://localhost:8080/"
    },
    "id": "-DBtRN3oSdrO",
    "outputId": "4a0cb31a-e695-4f55-b225-8f8b41483453"
   },
   "outputs": [
    {
     "data": {
      "text/plain": [
       "array([27, 28, 29, 30, 31, 32, 33, 34, 35, 36, 37, 38, 39, 40, 41, 42, 43,\n",
       "       44, 45, 46, 47, 48, 49, 50, 51, 52, 53,  1,  2,  3,  4,  5,  6,  7,\n",
       "        8,  9, 10, 11, 12, 13, 14, 15, 16, 17, 18, 19, 20, 21, 22, 23, 24,\n",
       "       25, 26])"
      ]
     },
     "execution_count": 112,
     "metadata": {},
     "output_type": "execute_result"
    }
   ],
   "source": [
    "# Checking Unique Values in arrival_date_week_number column\n",
    "hotel_booking_df['arrival_date_week_number'].unique()"
   ]
  },
  {
   "cell_type": "code",
   "execution_count": 113,
   "metadata": {
    "colab": {
     "base_uri": "https://localhost:8080/"
    },
    "id": "xSKL_NEtSnlo",
    "outputId": "a13e1c76-4e71-4eff-ce3a-f36fbaa07b9f"
   },
   "outputs": [
    {
     "data": {
      "text/plain": [
       "array([ 1,  2,  3,  4,  5,  6,  7,  8,  9, 10, 11, 12, 13, 14, 15, 16, 17,\n",
       "       18, 19, 20, 21, 22, 23, 24, 25, 26, 27, 28, 29, 30, 31])"
      ]
     },
     "execution_count": 113,
     "metadata": {},
     "output_type": "execute_result"
    }
   ],
   "source": [
    "# Checking Unique Values in arrival_date_day_of_month column\n",
    "hotel_booking_df['arrival_date_day_of_month'].unique()"
   ]
  },
  {
   "cell_type": "code",
   "execution_count": 114,
   "metadata": {
    "colab": {
     "base_uri": "https://localhost:8080/"
    },
    "id": "ctInhP_IS8fb",
    "outputId": "5d63c5c7-cd2f-481a-d7c8-1e59efa0a80f"
   },
   "outputs": [
    {
     "data": {
      "text/plain": [
       "array([ 0,  1,  2,  4,  3,  6, 13,  8,  5,  7, 12,  9, 16, 18, 19, 10, 14])"
      ]
     },
     "execution_count": 114,
     "metadata": {},
     "output_type": "execute_result"
    }
   ],
   "source": [
    "# Checking Unique Values in stays_in_weekend_nights column\n",
    "hotel_booking_df['stays_in_weekend_nights'].unique()"
   ]
  },
  {
   "cell_type": "code",
   "execution_count": 115,
   "metadata": {
    "colab": {
     "base_uri": "https://localhost:8080/"
    },
    "id": "AYwV8680TFVC",
    "outputId": "983c38e8-aa86-424f-f43c-092d8bf679e5"
   },
   "outputs": [
    {
     "data": {
      "text/plain": [
       "array([ 0,  1,  2,  3,  4,  5, 10, 11,  8,  6,  7, 15,  9, 12, 33, 20, 14,\n",
       "       16, 21, 13, 30, 19, 24, 40, 22, 42, 50, 25, 17, 32, 26, 18, 34, 35,\n",
       "       41])"
      ]
     },
     "execution_count": 115,
     "metadata": {},
     "output_type": "execute_result"
    }
   ],
   "source": [
    "# Checking Unique Values in stays_in_week_nights column\n",
    "hotel_booking_df['stays_in_week_nights'].unique()"
   ]
  },
  {
   "cell_type": "code",
   "execution_count": 116,
   "metadata": {
    "colab": {
     "base_uri": "https://localhost:8080/"
    },
    "id": "O9oIdcBhTNKT",
    "outputId": "3823f8d7-228a-4170-a919-aa46117c5eda"
   },
   "outputs": [
    {
     "data": {
      "text/plain": [
       "array([ 2,  1,  3,  4, 40, 26, 50, 27, 55,  0, 20,  6,  5, 10])"
      ]
     },
     "execution_count": 116,
     "metadata": {},
     "output_type": "execute_result"
    }
   ],
   "source": [
    "# Checking Unique Values in adults column\n",
    "hotel_booking_df['adults'].unique()"
   ]
  },
  {
   "cell_type": "code",
   "execution_count": 117,
   "metadata": {
    "colab": {
     "base_uri": "https://localhost:8080/"
    },
    "id": "XxI_AzMQTeGr",
    "outputId": "8954dfc0-1290-4fa4-c7d4-c8ec4bedfbaa"
   },
   "outputs": [
    {
     "data": {
      "text/plain": [
       "array([ 0.,  1.,  2., 10.,  3., nan])"
      ]
     },
     "execution_count": 117,
     "metadata": {},
     "output_type": "execute_result"
    }
   ],
   "source": [
    "# Checking Unique Values in children column\n",
    "hotel_booking_df['children'].unique()"
   ]
  },
  {
   "cell_type": "code",
   "execution_count": 118,
   "metadata": {
    "colab": {
     "base_uri": "https://localhost:8080/"
    },
    "id": "iN8P6ef7TkI9",
    "outputId": "1a51fb41-9811-4411-a72d-851cf448ca95"
   },
   "outputs": [
    {
     "data": {
      "text/plain": [
       "array([ 0,  1,  2, 10,  9])"
      ]
     },
     "execution_count": 118,
     "metadata": {},
     "output_type": "execute_result"
    }
   ],
   "source": [
    "# Checking Unique Values in babies column\n",
    "hotel_booking_df['babies'].unique()"
   ]
  },
  {
   "cell_type": "code",
   "execution_count": 119,
   "metadata": {
    "colab": {
     "base_uri": "https://localhost:8080/"
    },
    "id": "yLy3pzR0Tqho",
    "outputId": "2db2a531-cfe0-4dfb-8abd-0595ed20572c"
   },
   "outputs": [
    {
     "data": {
      "text/plain": [
       "array(['BB', 'FB', 'HB', 'SC', 'Undefined'], dtype=object)"
      ]
     },
     "execution_count": 119,
     "metadata": {},
     "output_type": "execute_result"
    }
   ],
   "source": [
    "# Checking Unique Values in meal column\n",
    "hotel_booking_df['meal'].unique()"
   ]
  },
  {
   "cell_type": "code",
   "execution_count": 120,
   "metadata": {
    "colab": {
     "base_uri": "https://localhost:8080/"
    },
    "id": "DvcspEqLTwea",
    "outputId": "ce0f0ee8-6175-4b3c-cba0-cfa1526619b6"
   },
   "outputs": [
    {
     "data": {
      "text/plain": [
       "array(['PRT', 'GBR', 'USA', 'ESP', 'IRL', 'FRA', nan, 'ROU', 'NOR', 'OMN',\n",
       "       'ARG', 'POL', 'DEU', 'BEL', 'CHE', 'CN', 'GRC', 'ITA', 'NLD',\n",
       "       'DNK', 'RUS', 'SWE', 'AUS', 'EST', 'CZE', 'BRA', 'FIN', 'MOZ',\n",
       "       'BWA', 'LUX', 'SVN', 'ALB', 'IND', 'CHN', 'MEX', 'MAR', 'UKR',\n",
       "       'SMR', 'LVA', 'PRI', 'SRB', 'CHL', 'AUT', 'BLR', 'LTU', 'TUR',\n",
       "       'ZAF', 'AGO', 'ISR', 'CYM', 'ZMB', 'CPV', 'ZWE', 'DZA', 'KOR',\n",
       "       'CRI', 'HUN', 'ARE', 'TUN', 'JAM', 'HRV', 'HKG', 'IRN', 'GEO',\n",
       "       'AND', 'GIB', 'URY', 'JEY', 'CAF', 'CYP', 'COL', 'GGY', 'KWT',\n",
       "       'NGA', 'MDV', 'VEN', 'SVK', 'FJI', 'KAZ', 'PAK', 'IDN', 'LBN',\n",
       "       'PHL', 'SEN', 'SYC', 'AZE', 'BHR', 'NZL', 'THA', 'DOM', 'MKD',\n",
       "       'MYS', 'ARM', 'JPN', 'LKA', 'CUB', 'CMR', 'BIH', 'MUS', 'COM',\n",
       "       'SUR', 'UGA', 'BGR', 'CIV', 'JOR', 'SYR', 'SGP', 'BDI', 'SAU',\n",
       "       'VNM', 'PLW', 'QAT', 'EGY', 'PER', 'MLT', 'MWI', 'ECU', 'MDG',\n",
       "       'ISL', 'UZB', 'NPL', 'BHS', 'MAC', 'TGO', 'TWN', 'DJI', 'STP',\n",
       "       'KNA', 'ETH', 'IRQ', 'HND', 'RWA', 'KHM', 'MCO', 'BGD', 'IMN',\n",
       "       'TJK', 'NIC', 'BEN', 'VGB', 'TZA', 'GAB', 'GHA', 'TMP', 'GLP',\n",
       "       'KEN', 'LIE', 'GNB', 'MNE', 'UMI', 'MYT', 'FRO', 'MMR', 'PAN',\n",
       "       'BFA', 'LBY', 'MLI', 'NAM', 'BOL', 'PRY', 'BRB', 'ABW', 'AIA',\n",
       "       'SLV', 'DMA', 'PYF', 'GUY', 'LCA', 'ATA', 'GTM', 'ASM', 'MRT',\n",
       "       'NCL', 'KIR', 'SDN', 'ATF', 'SLE', 'LAO'], dtype=object)"
      ]
     },
     "execution_count": 120,
     "metadata": {},
     "output_type": "execute_result"
    }
   ],
   "source": [
    "# Checking Unique Values in country column\n",
    "hotel_booking_df['country'].unique()"
   ]
  },
  {
   "cell_type": "code",
   "execution_count": 121,
   "metadata": {
    "colab": {
     "base_uri": "https://localhost:8080/"
    },
    "id": "-_zHJLYXT7Zi",
    "outputId": "223baaf0-c33b-44ec-a300-360a2c34d411"
   },
   "outputs": [
    {
     "data": {
      "text/plain": [
       "array(['Direct', 'Corporate', 'Online TA', 'Offline TA/TO',\n",
       "       'Complementary', 'Groups', 'Undefined', 'Aviation'], dtype=object)"
      ]
     },
     "execution_count": 121,
     "metadata": {},
     "output_type": "execute_result"
    }
   ],
   "source": [
    "# Checking Unique Values in market_segment column\n",
    "hotel_booking_df['market_segment'].unique()"
   ]
  },
  {
   "cell_type": "code",
   "execution_count": 122,
   "metadata": {
    "colab": {
     "base_uri": "https://localhost:8080/"
    },
    "id": "S-_x3g4uUEhv",
    "outputId": "5e762f63-5783-4423-b547-c4af7846432f"
   },
   "outputs": [
    {
     "data": {
      "text/plain": [
       "array(['Direct', 'Corporate', 'TA/TO', 'Undefined', 'GDS'], dtype=object)"
      ]
     },
     "execution_count": 122,
     "metadata": {},
     "output_type": "execute_result"
    }
   ],
   "source": [
    "# Checking Unique Values in distribution_channel column\n",
    "hotel_booking_df['distribution_channel'].unique()"
   ]
  },
  {
   "cell_type": "code",
   "execution_count": 123,
   "metadata": {
    "colab": {
     "base_uri": "https://localhost:8080/"
    },
    "id": "_hy8VctkUK1I",
    "outputId": "cc391ed0-5d24-474a-bad3-eaa496bbef0e"
   },
   "outputs": [
    {
     "data": {
      "text/plain": [
       "array([0, 1])"
      ]
     },
     "execution_count": 123,
     "metadata": {},
     "output_type": "execute_result"
    }
   ],
   "source": [
    "# Checking Unique Values in is_repeated_guest column\n",
    "hotel_booking_df['is_repeated_guest'].unique()"
   ]
  },
  {
   "cell_type": "code",
   "execution_count": 124,
   "metadata": {
    "colab": {
     "base_uri": "https://localhost:8080/"
    },
    "id": "5qrGEpFnUYDJ",
    "outputId": "00f8c858-7880-4830-9005-5e0cc12e7cea"
   },
   "outputs": [
    {
     "data": {
      "text/plain": [
       "array([ 0,  1,  2,  3, 26, 25, 14,  4, 24, 19,  5, 21,  6, 13, 11])"
      ]
     },
     "execution_count": 124,
     "metadata": {},
     "output_type": "execute_result"
    }
   ],
   "source": [
    "# Checking Unique Values in previous_cancellations column\n",
    "hotel_booking_df['previous_cancellations'].unique()"
   ]
  },
  {
   "cell_type": "code",
   "execution_count": 125,
   "metadata": {
    "colab": {
     "base_uri": "https://localhost:8080/"
    },
    "id": "DKtei2j7UgiO",
    "outputId": "00139971-8f0e-4ff0-ac34-48f80648755d"
   },
   "outputs": [
    {
     "data": {
      "text/plain": [
       "array([ 0,  1,  2,  3,  4,  5,  6,  7,  8,  9, 10, 11, 12, 13, 14, 15, 16,\n",
       "       17, 18, 20, 21, 22, 23, 24, 25, 27, 28, 29, 30, 19, 26, 31, 32, 33,\n",
       "       34, 35, 36, 37, 38, 39, 40, 41, 42, 43, 44, 45, 46, 47, 48, 49, 50,\n",
       "       51, 52, 53, 54, 55, 56, 57, 58, 59, 60, 61, 62, 63, 64, 65, 66, 67,\n",
       "       68, 69, 70, 71, 72])"
      ]
     },
     "execution_count": 125,
     "metadata": {},
     "output_type": "execute_result"
    }
   ],
   "source": [
    "# Checking Unique Values in previous_bookings_not_canceled column\n",
    "hotel_booking_df['previous_bookings_not_canceled'].unique()"
   ]
  },
  {
   "cell_type": "code",
   "execution_count": 126,
   "metadata": {
    "colab": {
     "base_uri": "https://localhost:8080/"
    },
    "id": "q8I-fk0_Ul3b",
    "outputId": "949d681d-7c07-4b01-8b43-ffc8702b3868"
   },
   "outputs": [
    {
     "data": {
      "text/plain": [
       "array(['C', 'A', 'D', 'E', 'G', 'F', 'H', 'L', 'P', 'B'], dtype=object)"
      ]
     },
     "execution_count": 126,
     "metadata": {},
     "output_type": "execute_result"
    }
   ],
   "source": [
    "# Checking Unique Values in reserved_room_type column\n",
    "hotel_booking_df['reserved_room_type'].unique()"
   ]
  },
  {
   "cell_type": "code",
   "execution_count": 127,
   "metadata": {
    "colab": {
     "base_uri": "https://localhost:8080/"
    },
    "id": "Lyb1VwCwUuzj",
    "outputId": "91fd0b62-dc0d-446e-e9c4-b59ed8143e6a"
   },
   "outputs": [
    {
     "data": {
      "text/plain": [
       "array(['C', 'A', 'D', 'E', 'G', 'F', 'I', 'B', 'H', 'P', 'L', 'K'],\n",
       "      dtype=object)"
      ]
     },
     "execution_count": 127,
     "metadata": {},
     "output_type": "execute_result"
    }
   ],
   "source": [
    "# Checking Unique Values in assigned_room_type column\n",
    "hotel_booking_df['assigned_room_type'].unique()"
   ]
  },
  {
   "cell_type": "code",
   "execution_count": 128,
   "metadata": {
    "colab": {
     "base_uri": "https://localhost:8080/"
    },
    "id": "oRlpGStmU1en",
    "outputId": "8d02b987-6101-4025-a6fc-0355dd0214e8"
   },
   "outputs": [
    {
     "data": {
      "text/plain": [
       "array([ 3,  4,  0,  1,  2,  5, 17,  6,  8,  7, 10, 16,  9, 13, 12, 20, 14,\n",
       "       15, 11, 21, 18])"
      ]
     },
     "execution_count": 128,
     "metadata": {},
     "output_type": "execute_result"
    }
   ],
   "source": [
    "# Checking Unique Values in booking_changes column\n",
    "hotel_booking_df['booking_changes'].unique()"
   ]
  },
  {
   "cell_type": "code",
   "execution_count": 129,
   "metadata": {
    "colab": {
     "base_uri": "https://localhost:8080/"
    },
    "id": "0IketfIEU7yJ",
    "outputId": "64204b89-46b0-480b-ae55-5a56521d0418"
   },
   "outputs": [
    {
     "data": {
      "text/plain": [
       "array(['No Deposit', 'Refundable', 'Non Refund'], dtype=object)"
      ]
     },
     "execution_count": 129,
     "metadata": {},
     "output_type": "execute_result"
    }
   ],
   "source": [
    "# Checking Unique Values in deposit_type column\n",
    "hotel_booking_df['deposit_type'].unique()"
   ]
  },
  {
   "cell_type": "code",
   "execution_count": 130,
   "metadata": {
    "colab": {
     "base_uri": "https://localhost:8080/"
    },
    "id": "rEm-TgGWVIV1",
    "outputId": "7a39a499-c2e4-4815-c554-34d4d3a73e6c"
   },
   "outputs": [
    {
     "data": {
      "text/plain": [
       "array([ nan, 304., 240., 303.,  15., 241.,   8., 250., 115.,   5., 175.,\n",
       "       134., 156., 243., 242.,   3., 105.,  40., 147., 306., 184.,  96.,\n",
       "         2., 127.,  95., 146.,   9., 177.,   6., 143., 244., 149., 167.,\n",
       "       300., 171., 305.,  67., 196., 152., 142., 261., 104.,  36.,  26.,\n",
       "        29., 258., 110.,  71., 181.,  88., 251., 275.,  69., 248., 208.,\n",
       "       256., 314., 126., 281., 273., 253., 185., 330., 334., 328., 326.,\n",
       "       321., 324., 313.,  38., 155.,  68., 335., 308., 332.,  94., 348.,\n",
       "       310., 339., 375.,  66., 327., 387., 298.,  91., 245., 385., 257.,\n",
       "       393., 168., 405., 249., 315.,  75., 128., 307.,  11., 436.,   1.,\n",
       "       201., 183., 223., 368., 336., 291., 464., 411., 481.,  10., 154.,\n",
       "       468., 410., 390., 440., 495., 492., 493., 434.,  57., 531., 420.,\n",
       "       483., 526., 472., 429.,  16., 446.,  34.,  78., 139., 252., 270.,\n",
       "        47., 114., 301., 193., 182., 135., 350., 195., 352., 355., 159.,\n",
       "       363., 384., 360., 331., 367.,  64., 406., 163., 414., 333., 427.,\n",
       "       431., 430., 426., 438., 433., 418., 441., 282., 432.,  72., 450.,\n",
       "       180., 454., 455.,  59., 451., 254., 358., 469., 165., 467., 510.,\n",
       "       337., 476., 502., 527., 479., 508., 535., 302., 497., 187.,  13.,\n",
       "         7.,  27.,  14.,  22.,  17.,  28.,  42.,  20.,  19.,  45.,  37.,\n",
       "        61.,  39.,  21.,  24.,  41.,  50.,  30.,  54.,  52.,  12.,  44.,\n",
       "        31.,  83.,  32.,  63.,  60.,  55.,  56.,  89.,  87., 118.,  86.,\n",
       "        85., 210., 214., 129., 179., 138., 174., 170., 153.,  93., 151.,\n",
       "       119.,  35., 173.,  58.,  53., 133.,  79., 235., 192., 191., 236.,\n",
       "       162., 215., 157., 287., 132., 234.,  98.,  77., 103., 107., 262.,\n",
       "       220., 121., 205., 378.,  23., 296., 290., 229.,  33., 286., 276.,\n",
       "       425., 484., 323., 403., 219., 394., 509., 111., 423.,   4.,  70.,\n",
       "        82.,  81.,  74.,  92.,  99.,  90., 112., 117., 106., 148., 158.,\n",
       "       144., 211., 213., 216., 232., 150., 267., 227., 247., 278., 280.,\n",
       "       285., 289., 269., 295., 265., 288., 122., 294., 325., 341., 344.,\n",
       "       346., 359., 283., 364., 370., 371.,  25., 141., 391., 397., 416.,\n",
       "       404., 299., 197.,  73., 354., 444., 408., 461., 388., 453., 459.,\n",
       "       474., 475., 480., 449.])"
      ]
     },
     "execution_count": 130,
     "metadata": {},
     "output_type": "execute_result"
    }
   ],
   "source": [
    "# Checking Unique Values in agent column\n",
    "hotel_booking_df['agent'].unique()"
   ]
  },
  {
   "cell_type": "code",
   "execution_count": 131,
   "metadata": {
    "colab": {
     "base_uri": "https://localhost:8080/"
    },
    "id": "inx8HE-TVOzv",
    "outputId": "9eaf3abe-e5a0-46bf-8f65-1f1e47348414"
   },
   "outputs": [
    {
     "data": {
      "text/plain": [
       "array([ nan, 110., 113., 270., 178., 240., 154., 144., 307., 268.,  59.,\n",
       "       204., 312., 318.,  94., 174., 274., 195., 223., 317., 281., 118.,\n",
       "        53., 286.,  12.,  47., 324., 342., 373., 371., 383.,  86.,  82.,\n",
       "       218.,  88.,  31., 397., 392., 405., 331., 367.,  20.,  83., 416.,\n",
       "        51., 395., 102.,  34.,  84., 360., 394., 457., 382., 461., 478.,\n",
       "       386., 112., 486., 421.,   9., 308., 135., 224., 504., 269., 356.,\n",
       "       498., 390., 513., 203., 263., 477., 521., 169., 515., 445., 337.,\n",
       "       251., 428., 292., 388., 130., 250., 355., 254., 543., 531., 528.,\n",
       "        62., 120.,  42.,  81., 116., 530., 103.,  39.,  16.,  92.,  61.,\n",
       "       501., 165., 291., 290.,  43., 325., 192., 108., 200., 465., 287.,\n",
       "       297., 490., 482., 207., 282., 437., 225., 329., 272.,  28.,  77.,\n",
       "       338.,  72., 246., 319., 146., 159., 380., 323., 511., 407., 278.,\n",
       "        80., 403., 399.,  14., 137., 343., 346., 347., 349., 289., 351.,\n",
       "       353.,  54.,  99., 358., 361., 362., 366., 372., 365., 277., 109.,\n",
       "       377., 379.,  22., 378., 330., 364., 401., 232., 255., 384., 167.,\n",
       "       212., 514., 391., 400., 376., 402., 396., 302., 398.,   6., 370.,\n",
       "       369., 409., 168., 104., 408., 413., 148.,  10., 333., 419., 415.,\n",
       "       424., 425., 423., 422., 435., 439., 442., 448., 443., 454., 444.,\n",
       "        52., 459., 458., 456., 460., 447., 470., 466., 484., 184., 485.,\n",
       "        32., 487., 491., 494., 193., 516., 496., 499.,  29.,  78., 520.,\n",
       "       507., 506., 512., 126.,  64., 242., 518., 523., 539., 534., 436.,\n",
       "       525., 541.,  40., 455., 410.,  45.,  38.,  49.,  48.,  67.,  68.,\n",
       "        65.,  91.,  37.,   8., 179., 209., 219., 221., 227., 153., 186.,\n",
       "       253., 202., 216., 275., 233., 280., 309., 321.,  93., 316.,  85.,\n",
       "       107., 350., 279., 334., 348., 150.,  73., 385., 418., 197., 450.,\n",
       "       452., 115.,  46.,  76.,  96., 100., 105., 101., 122.,  11., 139.,\n",
       "       142., 127., 143., 140., 149., 163., 160., 180., 238., 183., 222.,\n",
       "       185., 217., 215., 213., 237., 230., 234.,  35., 245., 158., 258.,\n",
       "       259., 260., 411., 257., 271.,  18., 106., 210., 273.,  71., 284.,\n",
       "       301., 305., 293., 264., 311., 304., 313., 288., 320., 314., 332.,\n",
       "       341., 352., 243., 368., 393., 132., 220., 412., 420., 426., 417.,\n",
       "       429., 433., 446., 357., 479., 483., 489., 229., 481., 497., 451.,\n",
       "       492.])"
      ]
     },
     "execution_count": 131,
     "metadata": {},
     "output_type": "execute_result"
    }
   ],
   "source": [
    "# Checking Unique Values in company column\n",
    "hotel_booking_df['company'].unique()"
   ]
  },
  {
   "cell_type": "code",
   "execution_count": 132,
   "metadata": {
    "colab": {
     "base_uri": "https://localhost:8080/"
    },
    "id": "2WmoAx3BVT0y",
    "outputId": "354b52f6-2cf9-4fdf-fec2-7073ad7cccee"
   },
   "outputs": [
    {
     "data": {
      "text/plain": [
       "array([  0,  50,  47,  65, 122,  75, 101, 150, 125,  14,  60,  34, 100,\n",
       "        22, 121,  61,  39,   5,   1,   8, 107,  43,  52,   2,  11, 142,\n",
       "       116,  13,  44,  97,  83,   4, 113,  18,  20, 185,  93, 109,   6,\n",
       "        37, 105, 154,  64,  99,  38,  48,  33,  77,  21,  80,  59,  40,\n",
       "        58,  89,  53,  49,  69,  87,  91,  57, 111,  79,  98,  85,  63,\n",
       "        15,   3,  41, 224,  31,  56, 187, 176,  71,  55,  96, 236, 259,\n",
       "       207, 215, 160, 120,  30,  32,  27,  62,  24, 108, 147, 379,  70,\n",
       "        35, 178, 330, 223, 174, 162, 391,  68, 193,  10,  76,  16,  28,\n",
       "         9, 165,  17,  25,  46,   7,  84, 175, 183,  23, 117,  12,  54,\n",
       "        26,  73,  45,  19,  42,  72,  81,  92,  74, 167,  36])"
      ]
     },
     "execution_count": 132,
     "metadata": {},
     "output_type": "execute_result"
    }
   ],
   "source": [
    "# Checking Unique Values in days_in_waiting_list column\n",
    "hotel_booking_df['days_in_waiting_list'].unique()"
   ]
  },
  {
   "cell_type": "code",
   "execution_count": 133,
   "metadata": {
    "colab": {
     "base_uri": "https://localhost:8080/"
    },
    "id": "pTIP_wmpVbCY",
    "outputId": "ff47dd06-002d-4e73-befa-00f93c7d8962"
   },
   "outputs": [
    {
     "data": {
      "text/plain": [
       "array(['Transient', 'Contract', 'Transient-Party', 'Group'], dtype=object)"
      ]
     },
     "execution_count": 133,
     "metadata": {},
     "output_type": "execute_result"
    }
   ],
   "source": [
    "# Checking Unique Values in customer_type column\n",
    "hotel_booking_df['customer_type'].unique()"
   ]
  },
  {
   "cell_type": "code",
   "execution_count": 134,
   "metadata": {
    "colab": {
     "base_uri": "https://localhost:8080/"
    },
    "id": "OG4IT146VgZe",
    "outputId": "1927ad27-29f5-4079-a6e8-f247df5e5537"
   },
   "outputs": [
    {
     "data": {
      "text/plain": [
       "array([  0.  ,  75.  ,  98.  , ..., 266.75, 209.25, 157.71])"
      ]
     },
     "execution_count": 134,
     "metadata": {},
     "output_type": "execute_result"
    }
   ],
   "source": [
    "# Checking Unique Values in adr column\n",
    "hotel_booking_df['adr'].unique()"
   ]
  },
  {
   "cell_type": "code",
   "execution_count": 135,
   "metadata": {
    "colab": {
     "base_uri": "https://localhost:8080/"
    },
    "id": "H6kQV7UeVmiS",
    "outputId": "bf5eac1c-c31c-4ef6-8bc6-81c1ec26ce53"
   },
   "outputs": [
    {
     "data": {
      "text/plain": [
       "array([0, 1, 2, 8, 3])"
      ]
     },
     "execution_count": 135,
     "metadata": {},
     "output_type": "execute_result"
    }
   ],
   "source": [
    "# Checking Unique Values in required_car_parking_spaces column\n",
    "hotel_booking_df['required_car_parking_spaces'].unique()"
   ]
  },
  {
   "cell_type": "code",
   "execution_count": 136,
   "metadata": {
    "colab": {
     "base_uri": "https://localhost:8080/"
    },
    "id": "tGLaLs8YVrcC",
    "outputId": "11c407cc-e960-4d63-adc4-2ca440e707a3"
   },
   "outputs": [
    {
     "data": {
      "text/plain": [
       "array([0, 1, 3, 2, 4, 5])"
      ]
     },
     "execution_count": 136,
     "metadata": {},
     "output_type": "execute_result"
    }
   ],
   "source": [
    "# Checking Unique Values in total_of_special_requests column\n",
    "hotel_booking_df['total_of_special_requests'].unique()"
   ]
  },
  {
   "cell_type": "code",
   "execution_count": 137,
   "metadata": {
    "colab": {
     "base_uri": "https://localhost:8080/"
    },
    "id": "SXjQhytqVy3k",
    "outputId": "dc4c86e5-7a15-4698-ff95-89063e93df77"
   },
   "outputs": [
    {
     "data": {
      "text/plain": [
       "array(['Check-Out', 'Canceled', 'No-Show'], dtype=object)"
      ]
     },
     "execution_count": 137,
     "metadata": {},
     "output_type": "execute_result"
    }
   ],
   "source": [
    "# Checking Unique Values in reservation_status column\n",
    "hotel_booking_df['reservation_status'].unique()"
   ]
  },
  {
   "cell_type": "code",
   "execution_count": 138,
   "metadata": {
    "colab": {
     "base_uri": "https://localhost:8080/"
    },
    "id": "oXvOYGIwV6X2",
    "outputId": "7bedde8e-0434-46dc-a6ea-d12bda7fce31"
   },
   "outputs": [
    {
     "data": {
      "text/plain": [
       "array(['7/1/2015', '7/2/2015', '7/3/2015', '5/6/2015', '4/22/2015',\n",
       "       '6/23/2015', '7/5/2015', '7/6/2015', '7/7/2015', '7/8/2015',\n",
       "       '5/11/2015', '7/15/2015', '7/16/2015', '5/29/2015', '5/19/2015',\n",
       "       '6/19/2015', '5/23/2015', '5/18/2015', '7/9/2015', '6/2/2015',\n",
       "       '7/13/2015', '7/4/2015', '6/29/2015', '6/16/2015', '6/18/2015',\n",
       "       '6/12/2015', '6/9/2015', '5/26/2015', '7/11/2015', '7/12/2015',\n",
       "       '7/17/2015', '4/15/2015', '5/13/2015', '7/10/2015', '5/20/2015',\n",
       "       '5/12/2015', '7/14/2015', '6/17/2015', '5/1/2015', '3/30/2015',\n",
       "       '7/19/2015', '6/3/2015', '6/26/2015', '5/14/2015', '7/20/2015',\n",
       "       '5/7/2015', '5/28/2015', '4/13/2015', '3/25/2015', '7/21/2015',\n",
       "       '6/27/2015', '7/18/2015', '7/23/2015', '6/8/2015', '6/22/2015',\n",
       "       '6/24/2015', '3/5/2015', '6/1/2015', '4/24/2015', '7/22/2015',\n",
       "       '5/27/2015', '4/6/2015', '4/11/2015', '7/25/2015', '7/28/2015',\n",
       "       '7/29/2015', '6/25/2015', '7/24/2015', '6/5/2015', '6/30/2015',\n",
       "       '6/13/2015', '6/11/2015', '7/30/2015', '7/27/2015', '4/29/2015',\n",
       "       '6/4/2015', '7/26/2015', '8/1/2015', '8/2/2015', '6/15/2015',\n",
       "       '4/23/2015', '7/31/2015', '5/25/2015', '8/3/2015', '4/17/2015',\n",
       "       '8/4/2015', '8/6/2015', '5/15/2015', '5/9/2015', '3/17/2015',\n",
       "       '5/22/2015', '8/7/2015', '4/4/2015', '8/5/2015', '8/8/2015',\n",
       "       '8/10/2015', '5/4/2015', '6/6/2015', '8/9/2015', '8/15/2015',\n",
       "       '8/11/2015', '3/28/2015', '8/14/2015', '8/12/2015', '8/16/2015',\n",
       "       '5/16/2015', '8/21/2015', '8/13/2015', '8/17/2015', '4/20/2015',\n",
       "       '8/18/2015', '8/23/2015', '8/22/2015', '8/19/2015', '8/20/2015',\n",
       "       '8/29/2015', '3/31/2015', '5/30/2015', '8/25/2015', '4/14/2015',\n",
       "       '8/24/2015', '3/24/2015', '5/21/2015', '8/28/2015', '8/26/2015',\n",
       "       '8/27/2015', '8/30/2015', '8/31/2015', '9/6/2015', '9/3/2015',\n",
       "       '9/4/2015', '9/2/2015', '9/1/2015', '9/5/2015', '6/20/2015',\n",
       "       '9/7/2015', '9/10/2015', '9/11/2015', '9/8/2015', '9/9/2015',\n",
       "       '9/13/2015', '9/15/2015', '4/10/2015', '1/2/2015', '11/18/2014',\n",
       "       '9/12/2015', '9/17/2015', '9/14/2015', '4/7/2015', '9/19/2015',\n",
       "       '9/16/2015', '9/20/2015', '1/18/2015', '10/23/2015', '1/22/2015',\n",
       "       '1/1/2015', '9/22/2015', '9/24/2015', '9/18/2015', '9/21/2015',\n",
       "       '9/30/2015', '9/25/2015', '9/27/2015', '9/28/2015', '10/12/2015',\n",
       "       '9/29/2015', '9/23/2015', '10/1/2015', '9/26/2015', '4/18/2015',\n",
       "       '10/2/2015', '10/4/2015', '10/8/2015', '10/3/2015', '10/7/2015',\n",
       "       '10/9/2015', '10/11/2015', '10/5/2015', '10/6/2015', '10/10/2015',\n",
       "       '10/14/2015', '10/15/2015', '10/18/2015', '10/13/2015',\n",
       "       '10/20/2015', '10/19/2015', '10/31/2015', '10/16/2015',\n",
       "       '10/21/2015', '10/22/2015', '10/17/2015', '10/24/2015',\n",
       "       '10/25/2015', '10/28/2015', '10/27/2015', '10/26/2015',\n",
       "       '10/30/2015', '11/5/2015', '10/29/2015', '11/3/2015', '11/7/2015',\n",
       "       '11/4/2015', '11/1/2015', '11/2/2015', '11/17/2015', '11/6/2015',\n",
       "       '11/10/2015', '11/8/2015', '11/9/2015', '11/15/2015', '11/16/2015',\n",
       "       '11/11/2015', '11/12/2015', '11/14/2015', '11/13/2015',\n",
       "       '11/18/2015', '11/22/2015', '11/19/2015', '11/21/2015',\n",
       "       '11/20/2015', '11/24/2015', '11/25/2015', '11/23/2015',\n",
       "       '11/28/2015', '11/26/2015', '11/27/2015', '11/29/2015',\n",
       "       '12/4/2015', '12/1/2015', '12/6/2015', '12/8/2015', '12/2/2015',\n",
       "       '12/3/2015', '12/31/2015', '12/5/2015', '12/10/2015', '12/17/2015',\n",
       "       '11/30/2015', '12/12/2015', '12/7/2015', '1/5/2016', '12/11/2015',\n",
       "       '12/13/2015', '12/15/2015', '12/16/2015', '12/19/2015',\n",
       "       '12/18/2015', '12/26/2015', '12/27/2015', '12/22/2015',\n",
       "       '12/23/2015', '12/24/2015', '12/29/2015', '12/28/2015',\n",
       "       '12/20/2015', '12/30/2015', '1/2/2016', '1/1/2016', '12/25/2015',\n",
       "       '1/3/2016', '1/4/2016', '1/11/2016', '1/7/2016', '12/21/2015',\n",
       "       '1/9/2016', '1/10/2016', '1/8/2016', '1/6/2016', '1/12/2016',\n",
       "       '1/13/2016', '1/23/2016', '2/9/2016', '1/15/2016', '1/16/2016',\n",
       "       '1/17/2016', '1/19/2016', '1/18/2016', '1/21/2016', '1/24/2016',\n",
       "       '1/22/2016', '1/29/2016', '1/27/2016', '1/25/2016', '3/8/2016',\n",
       "       '1/26/2016', '1/20/2016', '1/30/2016', '2/1/2016', '2/2/2016',\n",
       "       '2/8/2016', '2/7/2016', '1/28/2016', '2/5/2016', '2/3/2016',\n",
       "       '2/13/2016', '2/10/2016', '2/4/2016', '2/12/2016', '2/11/2016',\n",
       "       '2/16/2016', '2/14/2016', '2/15/2016', '2/20/2016', '2/6/2016',\n",
       "       '1/14/2016', '2/17/2016', '2/21/2016', '2/24/2016', '2/25/2016',\n",
       "       '2/19/2016', '2/18/2016', '2/26/2016', '2/23/2016', '3/5/2016',\n",
       "       '2/22/2016', '2/27/2016', '3/3/2016', '3/24/2016', '3/4/2016',\n",
       "       '2/29/2016', '3/1/2016', '3/2/2016', '3/30/2016', '3/7/2016',\n",
       "       '3/14/2016', '3/21/2016', '3/9/2016', '3/12/2016', '3/22/2016',\n",
       "       '3/10/2016', '3/11/2016', '3/20/2016', '3/15/2016', '3/17/2016',\n",
       "       '3/16/2016', '3/19/2016', '3/27/2016', '3/18/2016', '3/26/2016',\n",
       "       '3/31/2016', '3/28/2016', '3/29/2016', '4/1/2016', '3/23/2016',\n",
       "       '4/2/2016', '3/25/2016', '3/13/2016', '4/4/2016', '4/3/2016',\n",
       "       '4/5/2016', '4/8/2016', '4/6/2016', '4/9/2016', '4/12/2016',\n",
       "       '4/16/2016', '4/17/2016', '4/27/2016', '4/14/2016', '4/18/2016',\n",
       "       '4/21/2016', '4/19/2016', '4/20/2016', '4/10/2016', '4/13/2016',\n",
       "       '4/11/2016', '4/7/2016', '4/15/2016', '4/22/2016', '4/23/2016',\n",
       "       '4/26/2016', '4/28/2016', '4/24/2016', '4/25/2016', '4/29/2016',\n",
       "       '4/30/2016', '5/1/2016', '5/10/2016', '5/2/2016', '5/7/2016',\n",
       "       '5/8/2016', '5/12/2016', '5/4/2016', '5/6/2016', '5/3/2016',\n",
       "       '5/9/2016', '5/5/2016', '5/13/2016', '5/14/2016', '5/18/2016',\n",
       "       '5/19/2016', '5/15/2016', '5/16/2016', '5/11/2016', '5/21/2016',\n",
       "       '5/22/2016', '5/20/2016', '5/24/2016', '5/25/2016', '5/26/2016',\n",
       "       '5/23/2016', '5/27/2016', '5/17/2016', '5/29/2016', '5/28/2016',\n",
       "       '5/30/2016', '5/31/2016', '6/1/2016', '6/3/2016', '6/8/2016',\n",
       "       '6/2/2016', '6/5/2016', '6/6/2016', '6/13/2016', '6/7/2016',\n",
       "       '6/10/2016', '6/11/2016', '6/16/2016', '6/12/2016', '6/14/2016',\n",
       "       '6/17/2016', '6/4/2016', '6/18/2016', '6/21/2016', '6/9/2016',\n",
       "       '6/24/2016', '6/20/2016', '6/25/2016', '6/22/2016', '6/26/2016',\n",
       "       '6/23/2016', '7/1/2016', '6/15/2016', '6/28/2016', '7/2/2016',\n",
       "       '6/19/2016', '6/27/2016', '7/4/2016', '6/30/2016', '7/5/2016',\n",
       "       '7/8/2016', '7/9/2016', '7/7/2016', '7/12/2016', '6/29/2016',\n",
       "       '7/10/2016', '7/15/2016', '7/3/2016', '7/16/2016', '7/14/2016',\n",
       "       '7/18/2016', '7/13/2016', '7/6/2016', '7/20/2016', '7/21/2016',\n",
       "       '7/23/2016', '7/19/2016', '7/11/2016', '7/28/2016', '7/17/2016',\n",
       "       '7/25/2016', '7/22/2016', '7/29/2016', '8/3/2016', '8/2/2016',\n",
       "       '8/4/2016', '8/8/2016', '8/10/2016', '8/1/2016', '8/6/2016',\n",
       "       '3/6/2016', '8/5/2016', '7/26/2016', '8/7/2016', '7/30/2016',\n",
       "       '7/24/2016', '8/12/2016', '7/27/2016', '8/13/2016', '8/18/2016',\n",
       "       '8/16/2016', '8/15/2016', '8/17/2016', '8/11/2016', '7/31/2016',\n",
       "       '8/19/2016', '9/1/2016', '8/23/2016', '8/26/2016', '8/20/2016',\n",
       "       '8/21/2016', '9/4/2016', '8/22/2016', '8/27/2016', '8/25/2016',\n",
       "       '8/9/2016', '9/5/2016', '8/24/2016', '9/10/2016', '8/29/2016',\n",
       "       '9/9/2016', '8/30/2016', '9/13/2016', '8/31/2016', '9/14/2016',\n",
       "       '9/12/2016', '9/15/2016', '8/14/2016', '9/2/2016', '9/8/2016',\n",
       "       '9/19/2016', '9/16/2016', '9/7/2016', '9/21/2016', '9/6/2016',\n",
       "       '9/22/2016', '9/17/2016', '9/20/2016', '9/3/2016', '9/26/2016',\n",
       "       '9/23/2016', '9/18/2016', '9/29/2016', '10/2/2016', '10/1/2016',\n",
       "       '9/27/2016', '9/25/2016', '10/5/2016', '9/11/2016', '9/30/2016',\n",
       "       '10/9/2016', '10/3/2016', '10/6/2016', '10/11/2016', '9/24/2016',\n",
       "       '10/13/2016', '9/28/2016', '10/8/2016', '10/7/2016', '10/16/2016',\n",
       "       '8/28/2016', '10/17/2016', '10/18/2016', '10/10/2016', '10/4/2016',\n",
       "       '10/15/2016', '10/19/2016', '10/21/2016', '10/12/2016',\n",
       "       '10/24/2016', '10/26/2016', '10/23/2016', '10/20/2016',\n",
       "       '10/25/2016', '10/27/2016', '10/28/2016', '10/30/2016',\n",
       "       '10/29/2016', '11/1/2016', '11/4/2016', '10/14/2016', '11/7/2016',\n",
       "       '11/3/2016', '11/10/2016', '11/14/2016', '11/2/2016', '10/31/2016',\n",
       "       '11/11/2016', '11/8/2016', '11/5/2016', '11/25/2016', '11/9/2016',\n",
       "       '11/20/2016', '11/21/2016', '10/22/2016', '11/22/2016',\n",
       "       '11/16/2016', '11/23/2016', '11/17/2016', '11/6/2016',\n",
       "       '11/15/2016', '11/13/2016', '11/12/2016', '11/27/2016',\n",
       "       '11/19/2016', '11/30/2016', '11/18/2016', '12/2/2016', '12/4/2016',\n",
       "       '11/29/2016', '12/7/2016', '11/28/2016', '12/3/2016', '12/6/2016',\n",
       "       '11/24/2016', '12/8/2016', '12/5/2016', '12/10/2016', '12/13/2016',\n",
       "       '12/14/2016', '12/16/2016', '12/15/2016', '12/17/2016',\n",
       "       '12/19/2016', '12/21/2016', '12/20/2016', '12/22/2016',\n",
       "       '12/23/2016', '12/24/2016', '12/1/2016', '12/27/2016',\n",
       "       '12/29/2016', '12/30/2016', '12/12/2016', '1/2/2017', '12/11/2016',\n",
       "       '1/3/2017', '1/4/2017', '1/1/2017', '12/26/2016', '1/6/2017',\n",
       "       '12/28/2016', '12/18/2016', '1/10/2017', '1/11/2017', '1/7/2017',\n",
       "       '1/12/2017', '1/16/2017', '1/14/2017', '1/13/2017', '1/5/2017',\n",
       "       '1/17/2017', '1/20/2017', '12/9/2016', '1/26/2017', '12/31/2016',\n",
       "       '1/23/2017', '1/27/2017', '1/28/2017', '1/19/2017', '1/25/2017',\n",
       "       '1/24/2017', '1/29/2017', '1/18/2017', '12/25/2016', '1/15/2017',\n",
       "       '1/21/2017', '2/1/2017', '2/2/2017', '1/31/2017', '2/3/2017',\n",
       "       '2/4/2017', '2/6/2017', '2/7/2017', '2/8/2017', '1/30/2017',\n",
       "       '2/9/2017', '1/9/2017', '2/11/2017', '2/10/2017', '2/12/2017',\n",
       "       '2/13/2017', '2/14/2017', '2/16/2017', '2/17/2017', '2/18/2017',\n",
       "       '2/19/2017', '2/20/2017', '2/15/2017', '2/21/2017', '2/22/2017',\n",
       "       '2/26/2017', '2/23/2017', '2/24/2017', '2/25/2017', '2/28/2017',\n",
       "       '3/5/2017', '2/27/2017', '3/3/2017', '3/6/2017', '3/2/2017',\n",
       "       '3/8/2017', '3/9/2017', '3/10/2017', '3/7/2017', '3/12/2017',\n",
       "       '3/13/2017', '3/14/2017', '3/1/2017', '3/18/2017', '3/17/2017',\n",
       "       '3/24/2017', '3/22/2017', '3/26/2017', '3/27/2017', '3/11/2017',\n",
       "       '3/28/2017', '3/29/2017', '3/30/2017', '3/31/2017', '3/19/2017',\n",
       "       '1/22/2017', '4/2/2017', '3/20/2017', '4/3/2017', '1/8/2017',\n",
       "       '3/23/2017', '4/5/2017', '2/5/2017', '4/4/2017', '3/15/2017',\n",
       "       '4/7/2017', '3/25/2017', '4/8/2017', '4/6/2017', '3/21/2017',\n",
       "       '4/10/2017', '4/1/2017', '4/11/2017', '4/13/2017', '4/15/2017',\n",
       "       '4/12/2017', '3/4/2017', '4/19/2017', '4/22/2017', '4/20/2017',\n",
       "       '5/2/2017', '4/9/2017', '4/23/2017', '4/24/2017', '4/16/2017',\n",
       "       '4/28/2017', '4/18/2017', '4/26/2017', '4/25/2017', '4/17/2017',\n",
       "       '4/21/2017', '5/3/2017', '5/4/2017', '3/16/2017', '5/5/2017',\n",
       "       '4/29/2017', '4/14/2017', '5/8/2017', '4/27/2017', '5/11/2017',\n",
       "       '5/1/2017', '5/10/2017', '5/13/2017', '5/6/2017', '5/14/2017',\n",
       "       '5/16/2017', '4/30/2017', '5/15/2017', '5/7/2017', '5/9/2017',\n",
       "       '5/17/2017', '5/21/2017', '5/12/2017', '5/22/2017', '5/24/2017',\n",
       "       '5/23/2017', '5/25/2017', '5/26/2017', '5/28/2017', '5/27/2017',\n",
       "       '5/29/2017', '5/19/2017', '5/31/2017', '5/20/2017', '6/1/2017',\n",
       "       '5/30/2017', '6/2/2017', '11/26/2016', '6/4/2017', '6/5/2017',\n",
       "       '6/6/2017', '6/7/2017', '5/18/2017', '6/9/2017', '6/10/2017',\n",
       "       '6/11/2017', '6/12/2017', '6/14/2017', '6/8/2017', '6/16/2017',\n",
       "       '6/13/2017', '6/3/2017', '6/24/2017', '6/20/2017', '6/19/2017',\n",
       "       '6/21/2017', '6/26/2017', '6/27/2017', '6/22/2017', '6/28/2017',\n",
       "       '6/15/2017', '6/29/2017', '6/30/2017', '6/18/2017', '7/4/2017',\n",
       "       '7/8/2017', '7/5/2017', '7/3/2017', '7/7/2017', '7/1/2017',\n",
       "       '7/6/2017', '7/11/2017', '7/12/2017', '6/23/2017', '7/13/2017',\n",
       "       '7/2/2017', '7/10/2017', '7/14/2017', '7/15/2017', '7/16/2017',\n",
       "       '7/18/2017', '7/17/2017', '7/19/2017', '7/20/2017', '7/21/2017',\n",
       "       '6/25/2017', '6/17/2017', '7/24/2017', '7/26/2017', '7/9/2017',\n",
       "       '7/27/2017', '7/28/2017', '7/31/2017', '7/29/2017', '7/22/2017',\n",
       "       '8/2/2017', '8/1/2017', '8/3/2017', '8/4/2017', '7/25/2017',\n",
       "       '7/23/2017', '8/9/2017', '8/10/2017', '7/30/2017', '8/7/2017',\n",
       "       '8/13/2017', '8/5/2017', '8/14/2017', '8/8/2017', '8/16/2017',\n",
       "       '8/17/2017', '8/15/2017', '8/18/2017', '8/20/2017', '8/22/2017',\n",
       "       '8/6/2017', '8/25/2017', '8/26/2017', '8/23/2017', '8/11/2017',\n",
       "       '8/27/2017', '8/21/2017', '8/29/2017', '8/31/2017', '8/12/2017',\n",
       "       '8/19/2017', '1/31/2016', '9/1/2017', '8/28/2017', '4/3/2015',\n",
       "       '1/21/2015', '1/28/2015', '1/29/2015', '1/30/2015', '2/2/2015',\n",
       "       '2/5/2015', '2/6/2015', '2/9/2015', '2/10/2015', '2/11/2015',\n",
       "       '2/12/2015', '2/19/2015', '2/20/2015', '2/23/2015', '2/24/2015',\n",
       "       '2/25/2015', '2/26/2015', '2/27/2015', '3/3/2015', '3/4/2015',\n",
       "       '3/6/2015', '3/9/2015', '3/11/2015', '3/12/2015', '3/18/2015',\n",
       "       '4/2/2015', '6/14/2015', '4/8/2015', '4/16/2015', '4/25/2015',\n",
       "       '4/28/2015', '5/8/2015', '9/6/2017', '2/28/2016', '12/9/2015',\n",
       "       '12/14/2015', '9/9/2017', '9/2/2017', '8/24/2017', '8/30/2017',\n",
       "       '9/3/2017', '9/4/2017', '9/5/2017', '9/7/2017', '9/8/2017',\n",
       "       '9/10/2017', '9/12/2017', '9/14/2017', '4/30/2015', '4/21/2015',\n",
       "       '4/5/2015', '3/13/2015', '5/5/2015', '3/29/2015', '6/10/2015',\n",
       "       '4/27/2015', '10/17/2014', '1/20/2015', '2/17/2015', '3/10/2015',\n",
       "       '3/23/2015'], dtype=object)"
      ]
     },
     "execution_count": 138,
     "metadata": {},
     "output_type": "execute_result"
    }
   ],
   "source": [
    "# Checking Unique Values in reservation_status_date column\n",
    "hotel_booking_df['reservation_status_date'].unique()"
   ]
  },
  {
   "cell_type": "markdown",
   "metadata": {
    "id": "dauF4eBmngu3"
   },
   "source": [
    "## 3. ***Data Wrangling***"
   ]
  },
  {
   "cell_type": "markdown",
   "metadata": {
    "id": "bKJF3rekwFvQ"
   },
   "source": [
    "### Data Wrangling Code"
   ]
  },
  {
   "cell_type": "code",
   "execution_count": 139,
   "metadata": {
    "colab": {
     "base_uri": "https://localhost:8080/"
    },
    "id": "wk-9a2fpoLcV",
    "outputId": "b4591f4b-fb1c-4e18-f765-b469a1f65d81"
   },
   "outputs": [
    {
     "data": {
      "text/plain": [
       "company               112593\n",
       "agent                  16340\n",
       "country                  488\n",
       "children                   4\n",
       "reserved_room_type         0\n",
       "assigned_room_type         0\n",
       "dtype: int64"
      ]
     },
     "execution_count": 139,
     "metadata": {},
     "output_type": "execute_result"
    }
   ],
   "source": [
    "# Write your code to make your dataset analysis ready.\n",
    "# Missing Values/Null Values in Columns\n",
    "\n",
    "hotel_booking_df.isnull().sum().sort_values(ascending = False)[:6]"
   ]
  },
  {
   "cell_type": "code",
   "execution_count": 140,
   "metadata": {
    "id": "FikEnoeRZQUk"
   },
   "outputs": [],
   "source": [
    "# Replacing null values of company, agent and children columns with 0 and country column with 'others'\n",
    "\n",
    "hotel_booking_df[['company','agent','children']] = hotel_booking_df[['company','agent','children']].fillna(0)\n",
    "hotel_booking_df[['country']] = hotel_booking_df[['country']].fillna('others')"
   ]
  },
  {
   "cell_type": "code",
   "execution_count": 141,
   "metadata": {
    "colab": {
     "base_uri": "https://localhost:8080/"
    },
    "id": "1Na_RThPa-ax",
    "outputId": "b2f014b7-de44-4aa7-f6f5-99a170352a70"
   },
   "outputs": [
    {
     "data": {
      "text/plain": [
       "hotel                          0\n",
       "is_canceled                    0\n",
       "reservation_status             0\n",
       "total_of_special_requests      0\n",
       "required_car_parking_spaces    0\n",
       "adr                            0\n",
       "dtype: int64"
      ]
     },
     "execution_count": 141,
     "metadata": {},
     "output_type": "execute_result"
    }
   ],
   "source": [
    "# Checking if all null values are removed\n",
    "hotel_booking_df.isnull().sum().sort_values(ascending = False)[:6]"
   ]
  },
  {
   "cell_type": "code",
   "execution_count": 142,
   "metadata": {
    "colab": {
     "base_uri": "https://localhost:8080/"
    },
    "id": "9706NBNobYXz",
    "outputId": "50779401-3f04-4a0b-8130-9fb216df12aa"
   },
   "outputs": [
    {
     "data": {
      "text/plain": [
       "31994"
      ]
     },
     "execution_count": 142,
     "metadata": {},
     "output_type": "execute_result"
    }
   ],
   "source": [
    "# Checking number of duplicate values in the dataset\n",
    "len(hotel_booking_df[hotel_booking_df.duplicated()])\n",
    "\n",
    "# Thus, this dataset contains duplicate values"
   ]
  },
  {
   "cell_type": "code",
   "execution_count": 143,
   "metadata": {
    "id": "ObEgrJCQnWl3"
   },
   "outputs": [],
   "source": [
    "# Dropping the duplicate rows from dataset\n",
    "hotel_booking_df = hotel_booking_df.drop_duplicates()"
   ]
  },
  {
   "cell_type": "code",
   "execution_count": 144,
   "metadata": {
    "colab": {
     "base_uri": "https://localhost:8080/"
    },
    "id": "WvRqYIChntxh",
    "outputId": "4d055235-9070-4961-ecb7-9d442aff6898"
   },
   "outputs": [
    {
     "data": {
      "text/plain": [
       "(87396, 32)"
      ]
     },
     "execution_count": 144,
     "metadata": {},
     "output_type": "execute_result"
    }
   ],
   "source": [
    "# Checking the shape of dataset after dropping duplicate values\n",
    "hotel_booking_df.shape"
   ]
  },
  {
   "cell_type": "code",
   "execution_count": 145,
   "metadata": {
    "colab": {
     "base_uri": "https://localhost:8080/"
    },
    "id": "oCcR9NRIoG7-",
    "outputId": "78dca0f5-3812-48f8-ea7e-bea643bd95cd"
   },
   "outputs": [
    {
     "data": {
      "text/plain": [
       "(166, 32)"
      ]
     },
     "execution_count": 145,
     "metadata": {},
     "output_type": "execute_result"
    }
   ],
   "source": [
    "# Checking the shape of dataset whose combining values of adults, babies and children columns is 0\n",
    "hotel_booking_df[hotel_booking_df['adults']+hotel_booking_df['babies']+hotel_booking_df['children'] == 0].shape"
   ]
  },
  {
   "cell_type": "code",
   "execution_count": 146,
   "metadata": {
    "colab": {
     "base_uri": "https://localhost:8080/"
    },
    "id": "IoZoVTRnpWJk",
    "outputId": "1ac19549-4404-4f14-f8f4-b4f93370ba3c"
   },
   "outputs": [],
   "source": [
    "# Dropping the rows where combining values of adults, babies and children columns is 0, because it simply means no bookings were made\n",
    "hotel_booking_df = hotel_booking_df.loc[~((hotel_booking_df['adults'] == 0) & (hotel_booking_df['babies'] == 0) & (hotel_booking_df['children'] == 0))]"
   ]
  },
  {
   "cell_type": "markdown",
   "metadata": {
    "id": "fm7EY_EGrXaa"
   },
   "source": [
    "### **Converting columns to appropriate datatypes**"
   ]
  },
  {
   "cell_type": "code",
   "execution_count": 147,
   "metadata": {
    "colab": {
     "base_uri": "https://localhost:8080/"
    },
    "id": "LmzKcN1xrGAa",
    "outputId": "ded7cb81-e2d5-4743-9ae9-b7de548e7021"
   },
   "outputs": [],
   "source": [
    "# Changing datatype of column 'reservation_status_date' from object to data_type\n",
    "hotel_booking_df['reservation_status_date'] = pd.to_datetime(hotel_booking_df['reservation_status_date'], errors='coerce')\n",
    "invalid_dates = hotel_booking_df[hotel_booking_df['reservation_status_date'].isna()]"
   ]
  },
  {
   "cell_type": "markdown",
   "metadata": {
    "id": "87jAA97AtEas"
   },
   "source": [
    "### **Adding important columns as per requirement**"
   ]
  },
  {
   "cell_type": "code",
   "execution_count": 148,
   "metadata": {
    "colab": {
     "base_uri": "https://localhost:8080/"
    },
    "id": "aZo5hJMgtUkm",
    "outputId": "9d292ebd-aa13-4eb6-a57a-c2f2fb8a4e91"
   },
   "outputs": [],
   "source": [
    "# Adding total staying days in hotels\n",
    "hotel_booking_df['total_stay'] = hotel_booking_df['stays_in_weekend_nights']+hotel_booking_df['stays_in_week_nights']\n",
    "\n",
    "# Adding total people number as column, i.e. total types of person = num of adults + children + babies\n",
    "hotel_booking_df['total_people'] = hotel_booking_df['adults']+hotel_booking_df['babies']+hotel_booking_df['children']"
   ]
  },
  {
   "cell_type": "code",
   "execution_count": 149,
   "metadata": {
    "colab": {
     "base_uri": "https://localhost:8080/"
    },
    "id": "rDtFGYEIwejz",
    "outputId": "533d0bcf-c496-4b88-f194-311916fd9814"
   },
   "outputs": [
    {
     "data": {
      "text/plain": [
       "(87230, 34)"
      ]
     },
     "execution_count": 149,
     "metadata": {},
     "output_type": "execute_result"
    }
   ],
   "source": [
    "# Checking the final number of rows and columns\n",
    "hotel_booking_df.shape"
   ]
  },
  {
   "cell_type": "markdown",
   "metadata": {
    "id": "MSa1f5Uengrz"
   },
   "source": [
    "### What all manipulations have you done and insights you found?"
   ]
  },
  {
   "cell_type": "markdown",
   "metadata": {
    "id": "LbyXE7I1olp8"
   },
   "source": [
    "I have done the following manipulations and the insights were found, are as follows:-\n",
    "\n",
    "\n",
    "*   I found that there were four columns containing null values. So we had Null values in columns- Company, Agent, Country and Children.\n",
    "\n",
    "  1.   For company and agent, i have filled the missing values with 0\n",
    "\n",
    "  2.   For country column, i have fill missing values with object 'Others'(Assuming while collecting data country was not found so user selected the 'Others' option.)\n",
    "\n",
    "  3.   As the count of missing values in Children Column was only 4, so it was replaced with 0 considering no children.\n",
    "\n",
    "\n",
    "*   This dataset was also containing duplicate values, so duplicate values was dropped.\n",
    "\n",
    "*   I found that there were some rows in which the combining values of adults, babies and childrens was 0, so this simply means there were no guests as 0 indicates presence of none. So, there were no bookings made. As a result, i simply dropped the rows where combining values of adults, babies and children columns was 0.\n",
    "\n",
    "*   The data type of 'reservation_status_date' column was object type, so it was changed to date type format for better use.\n",
    "\n",
    "*   There were two new columns that was added, one is 'total_people' and other is 'total_stay'."
   ]
  },
  {
   "cell_type": "markdown",
   "metadata": {
    "id": "GF8Ens_Soomf"
   },
   "source": [
    "## ***4. Data Vizualization, Storytelling & Experimenting with charts : Understand the relationships between variables***"
   ]
  },
  {
   "cell_type": "markdown",
   "metadata": {
    "id": "0wOQAZs5pc--"
   },
   "source": [
    "#### Chart - 1 - Pie Chart for most preferred hotel (Univariate)"
   ]
  },
  {
   "cell_type": "code",
   "execution_count": 150,
   "metadata": {
    "colab": {
     "base_uri": "https://localhost:8080/",
     "height": 541
    },
    "id": "7v_ESjsspbW7",
    "outputId": "1e4cf8e0-fcbb-403d-d81f-7933b1ab5028"
   },
   "outputs": [
    {
     "data": {
      "image/png": "[encoded data removed]",
      "text/plain": [
       "<Figure size 1000x900 with 1 Axes>"
      ]
     },
     "metadata": {},
     "output_type": "display_data"
    }
   ],
   "source": [
    "# Chart - 1 visualization code\n",
    "\n",
    "# Visualizing by pie chart\n",
    "hotel_booking_df['hotel'].value_counts().plot.pie(explode=[0.05, 0.05], autopct ='%1.1f%%', shadow = True, figsize =(10,9), fontsize = 20)\n",
    "\n",
    "# Set labels\n",
    "plt.title('Pie Chart for Most Preferred Hotel', fontsize = 20)\n",
    "\n",
    "# To show\n",
    "plt.show()"
   ]
  },
  {
   "cell_type": "markdown",
   "metadata": {
    "id": "K5QZ13OEpz2H"
   },
   "source": [
    "##### 1. Why did you pick the specific chart?"
   ]
  },
  {
   "cell_type": "markdown",
   "metadata": {
    "id": "XESiWehPqBRc"
   },
   "source": [
    "A pie chart expresses a part-to-whole relationship in your data. It's easy to explain the percentage comparison through area covered in a circle with different colors. Wherever different percentage comparison comes into action, pie chart is used frequently. So, i have used Pie Chart and which helped us to get the percentage comparison more clearly and precisely."
   ]
  },
  {
   "cell_type": "markdown",
   "metadata": {
    "id": "lQ7QKXXCp7Bj"
   },
   "source": [
    "##### 2. What is/are the insight(s) found from the chart?"
   ]
  },
  {
   "cell_type": "markdown",
   "metadata": {
    "id": "C_j1G7yiqdRP"
   },
   "source": [
    "From the above chart, we got to know that City Hotel is most preferred hotel by the guests. Thus City Hotel has maximum bookings. 61.1% guests are preferred City Hotel, while only 38.9% guests have shown interest in Resort Hotel."
   ]
  },
  {
   "cell_type": "markdown",
   "metadata": {
    "id": "448CDAPjqfQr"
   },
   "source": [
    "##### 3. Will the gained insights help creating a positive business impact? \n",
    "Are there any insights that lead to negative growth? Justify with specific reason."
   ]
  },
  {
   "cell_type": "markdown",
   "metadata": {
    "id": "3cspy4FjqxJW"
   },
   "source": [
    "Yes, for both types of Hotels, this graph and data will make some positive business impacts.\n",
    "\n",
    "City Hotel are doing well so they are providing more services to attract more guests to increase more revenue. But, in case of Resort Hotel, guests have shown less interest than City Hotel. So, Resort Hotel need to find solution to attract guests and find what City Hotel have done to attract guests. So, there is an scope of tremendous growth in Resort Hotel, if they upgrade their services and adopt the path of growth and success learning from the success strategies of City Hotels and adding new ideas of themselves."
   ]
  },
  {
   "cell_type": "markdown",
   "metadata": {
    "id": "KSlN3yHqYklG"
   },
   "source": [
    "#### Chart - 2 - Hotel type with highest adr (Bivariate with Categorical - Numerical)"
   ]
  },
  {
   "cell_type": "code",
   "execution_count": null,
   "metadata": {
    "colab": {
     "base_uri": "https://localhost:8080/",
     "height": 532
    },
    "id": "R4YgtaqtYklH",
    "outputId": "414d66d3-0b19-445a-bc22-02ebae2ead0e"
   },
   "outputs": [],
   "source": [
    "# Chart - 2 visualization code\n",
    "\n",
    "# Group by Hotel\n",
    "group_by_hotel = hotel_booking_df.groupby('hotel')\n",
    "\n",
    "# Grouping by Hotel adr\n",
    "highest_adr = group_by_hotel['adr'].mean().reset_index()\n",
    "\n",
    "# Set plot size\n",
    "plt.figure(figsize=(10, 8))\n",
    "\n",
    "# Create the figure object\n",
    "ax = sns.barplot(x='hotel', y='adr', data=highest_adr)\n",
    "\n",
    "# Set labels\n",
    "ax.set_xlabel(\"Hotel Type\", fontsize=20)\n",
    "ax.set_ylabel(\"Average Daily Rate (ADR)\", fontsize=20)\n",
    "ax.set_xticklabels(['City Hotel', 'Resort Hotel'], fontsize=16)\n",
    "ax.set_title('Average ADR of Each Hotel Type', fontsize=20)\n",
    "\n",
    "# Show plot\n",
    "plt.show()"
   ]
  },
  {
   "cell_type": "markdown",
   "metadata": {
    "id": "t6dVpIINYklI"
   },
   "source": [
    "##### 1. Why did you pick the specific chart?"
   ]
  },
  {
   "cell_type": "markdown",
   "metadata": {
    "id": "5aaW0BYyYklI"
   },
   "source": [
    "Bar charts show the frequency counts of values for the different levels of a categorical or nominal variable. Sometimes, bar charts show other statistics such as percentages.\n",
    "\n",
    "To show the average adr of each hotel type in a clear and feasible way, i have used Bar chart here."
   ]
  },
  {
   "cell_type": "markdown",
   "metadata": {
    "id": "ijmpgYnKYklI"
   },
   "source": [
    "##### 2. What is/are the insight(s) found from the chart?"
   ]
  },
  {
   "cell_type": "markdown",
   "metadata": {
    "id": "PSx9atu2YklI"
   },
   "source": [
    "City hotel has the highest ADR. This means City Hotels are generating more revenues than the Resort Hotels. More the ADR, more will be the revenue."
   ]
  },
  {
   "cell_type": "markdown",
   "metadata": {
    "id": "-JiQyfWJYklI"
   },
   "source": [
    "##### 3. Will the gained insights help creating a positive business impact? \n",
    "Are there any insights that lead to negative growth? Justify with specific reason."
   ]
  },
  {
   "cell_type": "markdown",
   "metadata": {
    "id": "BcBbebzrYklV"
   },
   "source": [
    "So, City Hotel can do more advertising to get more customers that will ultimately add up to their revenue. Thus, the City Hotels are already enjoying high ADR, but a bit more of positive efforts towards growth will definitely adds a lot to their growth and overall revenue."
   ]
  },
  {
   "cell_type": "markdown",
   "metadata": {
    "id": "EM7whBJCYoAo"
   },
   "source": [
    "#### Chart - 3 - Relationship between ADR and Total Stay (Bivariate with Numerical-Numerical)"
   ]
  },
  {
   "cell_type": "code",
   "execution_count": null,
   "metadata": {
    "colab": {
     "base_uri": "https://localhost:8080/",
     "height": 424
    },
    "id": "t6GMdE67YoAp",
    "outputId": "7527d90e-0838-430c-b823-60934d16ea7f"
   },
   "outputs": [],
   "source": [
    "# Chart - 3 visualization code\n",
    "# Groupby adr, total_stay, hotel\n",
    "adr_vs_total_stay = hotel_booking_df.groupby(['total_stay','adr','hotel']).agg('count').reset_index()\n",
    "adr_vs_total_stay = adr_vs_total_stay.iloc[:, :3]\n",
    "adr_vs_total_stay = adr_vs_total_stay.rename(columns = {'is_canceled':'number_of_stays'})\n",
    "adr_vs_total_stay = adr_vs_total_stay[:18000]\n",
    "adr_vs_total_stay"
   ]
  },
  {
   "cell_type": "code",
   "execution_count": null,
   "metadata": {
    "colab": {
     "base_uri": "https://localhost:8080/",
     "height": 414
    },
    "id": "nwihj8azSceR",
    "outputId": "fd8b9242-2491-45c7-d371-2bc843c03b77"
   },
   "outputs": [],
   "source": [
    "# Plotting the graph in line chart\n",
    "# Set plot size\n",
    "plt.figure(figsize=(12,6))\n",
    "\n",
    "# Create the figure object\n",
    "sns.lineplot(x= 'total_stay', y= 'adr', data= adr_vs_total_stay)\n",
    "\n",
    "# Set labels\n",
    "plt.xlabel('Total Stay', fontsize = 16)\n",
    "plt.ylabel('ADR', fontsize = 16)\n",
    "plt.title('Relationship between ADR and Total Stay', fontsize = 20)\n",
    "\n",
    "# To show\n",
    "plt.show()"
   ]
  },
  {
   "cell_type": "markdown",
   "metadata": {
    "id": "fge-S5ZAYoAp"
   },
   "source": [
    "##### 1. Why did you pick the specific chart?"
   ]
  },
  {
   "cell_type": "markdown",
   "metadata": {
    "id": "5dBItgRVYoAp"
   },
   "source": [
    "This is a line chart and it helps to show small shifts that may be getting hard to spot in other graphs. It helps show trends for different periods. They are easy to understand. So, here we can easily track the ups and downs of the graph very precisely."
   ]
  },
  {
   "cell_type": "markdown",
   "metadata": {
    "id": "85gYPyotYoAp"
   },
   "source": [
    "##### 2. What is/are the insight(s) found from the chart?"
   ]
  },
  {
   "cell_type": "markdown",
   "metadata": {
    "id": "4jstXR6OYoAp"
   },
   "source": [
    "From this line chart, we have found that as the total stay increases the ADR is also getting high. So, ADR is directly proportional to total stay."
   ]
  },
  {
   "cell_type": "markdown",
   "metadata": {
    "id": "RoGjAbkUYoAp"
   },
   "source": [
    "##### 3. Will the gained insights help creating a positive business impact? \n",
    "Are there any insights that lead to negative growth? Justify with specific reason."
   ]
  },
  {
   "cell_type": "markdown",
   "metadata": {
    "id": "zfJ8IqMcYoAp"
   },
   "source": [
    "The hotels should focus on increasing their ADR and the more advertisement and better facilities and good offers will let the guests to stay more, that will directly result in increasing ADR. So, Hotels should offer more attractive offers and facilities, so that total stay can be increased that will directly multiply their ADR and ultimately revenue will increase."
   ]
  },
  {
   "cell_type": "markdown",
   "metadata": {
    "id": "4Of9eVA-YrdM"
   },
   "source": [
    "#### Chart - 4 - Percentage of repeated guests (Univariate)"
   ]
  },
  {
   "cell_type": "code",
   "execution_count": null,
   "metadata": {
    "colab": {
     "base_uri": "https://localhost:8080/",
     "height": 541
    },
    "id": "irlUoxc8YrdO",
    "outputId": "c2fc0d48-0445-49e4-cfe3-3d8c2c4af434"
   },
   "outputs": [],
   "source": [
    "# Chart - 4 visualization code\n",
    "\n",
    "# Visualizing by pie chart\n",
    "hotel_booking_df['is_repeated_guest'].value_counts().plot.pie(explode=[0.05, 0.05], autopct ='%1.1f%%', shadow = True, figsize =(10,9), fontsize = 20)\n",
    "\n",
    "# Set labels\n",
    "plt.title('Percentage (%) of repeated guests', fontsize = 20)\n",
    "\n",
    "# To show\n",
    "plt.show()"
   ]
  },
  {
   "cell_type": "markdown",
   "metadata": {
    "id": "iky9q4vBYrdO"
   },
   "source": [
    "##### 1. Why did you pick the specific chart?"
   ]
  },
  {
   "cell_type": "markdown",
   "metadata": {
    "id": "aJRCwT6DYrdO"
   },
   "source": [
    "Pie charts are used to represent the data or relative data in a single chart. The concept of pie slices is used to show the percentage of a particular data from the whole pie. Thus, i have used to show the percentage of repeated guests or not (where 0 is not repeated guest and 1 is repeated guest) through pie chart with different colored area under a circle."
   ]
  },
  {
   "cell_type": "markdown",
   "metadata": {
    "id": "F6T5p64dYrdO"
   },
   "source": [
    "##### 2. What is/are the insight(s) found from the chart?"
   ]
  },
  {
   "cell_type": "markdown",
   "metadata": {
    "id": "Xx8WAJvtYrdO"
   },
   "source": [
    "Repeated guests are very few which is only 3.9% while 96.1% guests are not returning to the same hotel. So, it's a matter of deep thinking and taking proper steps to increase the repeated guests numbers for both type of hotels. In order to retained the guests management should take feedbacks from guests and try to improve the services."
   ]
  },
  {
   "cell_type": "markdown",
   "metadata": {
    "id": "y-Ehk30pYrdP"
   },
   "source": [
    "##### 3. Will the gained insights help creating a positive business impact? \n",
    "Are there any insights that lead to negative growth? Justify with specific reason."
   ]
  },
  {
   "cell_type": "markdown",
   "metadata": {
    "id": "jLNxxz7MYrdP"
   },
   "source": [
    "Yes, the proportion of repeated guests is very much low, so if the Hotels work well in this side also, then the increase in number of repeated guests will ultimately boost their revenue. So Hotels can give alluring offers to non-repetitive customers during off seasons to enhance revenue. So, right steps should be taken like taking feedbacks, solving problems of customers within time limit and offering best offers to the customers."
   ]
  },
  {
   "cell_type": "markdown",
   "metadata": {
    "id": "bamQiAODYuh1"
   },
   "source": [
    "#### Chart - 5 - Percentage distribution of required car parking spaces (Univariate)"
   ]
  },
  {
   "cell_type": "code",
   "execution_count": null,
   "metadata": {
    "colab": {
     "base_uri": "https://localhost:8080/",
     "height": 509
    },
    "id": "TIJwrbroYuh3",
    "outputId": "0e720b39-4048-482e-a2b4-26d296df13a4"
   },
   "outputs": [],
   "source": [
    "# Chart - 5 visualization code\n",
    "\n",
    "# Visualizing by pie chart\n",
    "hotel_booking_df['required_car_parking_spaces'].value_counts().plot.pie(explode=[0.05]*5, autopct ='%1.1f%%', shadow = False, figsize =(12,8), fontsize = 20, labels = None)\n",
    "\n",
    "# Create the figure object\n",
    "labels = hotel_booking_df['required_car_parking_spaces'].value_counts().index\n",
    "\n",
    "# Set labels\n",
    "plt.title('% Distribution of\\nrequired car parking spaces', fontsize = 20)\n",
    "plt.legend(bbox_to_anchor = (0.85, 1), loc = 'upper left', labels = labels)\n",
    "\n",
    "# To show\n",
    "plt.show()"
   ]
  },
  {
   "cell_type": "markdown",
   "metadata": {
    "id": "QHF8YVU7Yuh3"
   },
   "source": [
    "##### 1. Why did you pick the specific chart?"
   ]
  },
  {
   "cell_type": "markdown",
   "metadata": {
    "id": "dcxuIMRPYuh3"
   },
   "source": [
    "I have used pie chart here because it gives the output in a more understanding manner as here we can clearly see the different two colors reflecting the demand of car parking spaces by guests. So, it's a very useful chart to get proper insights as we can use other charts also but i have found it more relevent here."
   ]
  },
  {
   "cell_type": "markdown",
   "metadata": {
    "id": "GwzvFGzlYuh3"
   },
   "source": [
    "##### 2. What is/are the insight(s) found from the chart?"
   ]
  },
  {
   "cell_type": "markdown",
   "metadata": {
    "id": "uyqkiB8YYuh3"
   },
   "source": [
    "This chart shows that 91.6% guests did not required the parking space. Only 8.3% guests required the parking space."
   ]
  },
  {
   "cell_type": "markdown",
   "metadata": {
    "id": "qYpmQ266Yuh3"
   },
   "source": [
    "##### 3. Will the gained insights help creating a positive business impact? \n",
    "Are there any insights that lead to negative growth? Justify with specific reason."
   ]
  },
  {
   "cell_type": "markdown",
   "metadata": {
    "id": "_WtzZ_hCYuh4"
   },
   "source": [
    "Yes, the insights gained from here definitely help the hotels to provide better services. It can be said that hotels need to work less on car parking spaces as only 1 car parking space was required by 8.3% of guests. SO, it's better to focus on other areas to increase quality of hotel rather than focusing mainly on car parking area only. The demand for car parking area is less. This might be due to the reason as many guests prefers to use public vehicles for travel."
   ]
  },
  {
   "cell_type": "markdown",
   "metadata": {
    "id": "OH-pJp9IphqM"
   },
   "source": [
    "#### Chart - 6 - Meal type Distribution (Univariate)"
   ]
  },
  {
   "cell_type": "code",
   "execution_count": null,
   "metadata": {
    "colab": {
     "base_uri": "https://localhost:8080/",
     "height": 414
    },
    "id": "kuRf4wtuphqN",
    "outputId": "5a34c245-daea-432d-d1b4-f13228346692"
   },
   "outputs": [],
   "source": [
    "# Chart - 6 visualization code\n",
    "# Set plot size\n",
    "plt.figure(figsize=(10,6))\n",
    "\n",
    "# Create the figure object\n",
    "sns.countplot(x = hotel_booking_df['meal'])\n",
    "\n",
    "# Set labels\n",
    "plt.xlabel('Meal Type', fontsize = 16)\n",
    "plt.ylabel('Count', fontsize = 16)\n",
    "plt.title('Preferred Meal Type', fontsize = 20)\n",
    "\n",
    "# To show\n",
    "plt.show()"
   ]
  },
  {
   "cell_type": "markdown",
   "metadata": {
    "id": "bbFf2-_FphqN"
   },
   "source": [
    "##### 1. Why did you pick the specific chart?"
   ]
  },
  {
   "cell_type": "markdown",
   "metadata": {
    "id": "loh7H2nzphqN"
   },
   "source": [
    "I have used the count plot here, because it shows the counts of observations in each categorical bin using bars. Bar plots look similar to count plots. But instead of the count of observations in each category, they show the mean of a quantitative variable among observations in each category. So, to get clear insights about the counts of different types of meal, i have used this count plot."
   ]
  },
  {
   "cell_type": "markdown",
   "metadata": {
    "id": "_ouA3fa0phqN"
   },
   "source": [
    "##### 2. What is/are the insight(s) found from the chart?"
   ]
  },
  {
   "cell_type": "markdown",
   "metadata": {
    "id": "VECbqPI7phqN"
   },
   "source": [
    "The insights that i have found from the above graph is that the most preferred meal type by the guests is BB (Bed and Breakfast) while HB (Half Board) and SC (Self Catering) are equally preferred. Types of meal in hotels are as follows:-\n",
    "\n",
    "*   BB - (Bed and Breakfast)\n",
    "\n",
    "*   HB - (Half Board)\n",
    "\n",
    "*   FB - (Full Board)\n",
    "\n",
    "*   SC - (Self Catering)\n",
    "\n",
    "\n",
    "\n"
   ]
  },
  {
   "cell_type": "markdown",
   "metadata": {
    "id": "Seke61FWphqN"
   },
   "source": [
    "##### 3. Will the gained insights help creating a positive business impact? \n",
    "Are there any insights that lead to negative growth? Justify with specific reason."
   ]
  },
  {
   "cell_type": "markdown",
   "metadata": {
    "id": "DW4_bGpfphqN"
   },
   "source": [
    "So, the insights here also have positive impact as hotels need to focus more on the BB meal type so that the majority of customers are satisfied while others types of meals should be given equal importance with proper management of food services so as to offer best services to customers."
   ]
  },
  {
   "cell_type": "markdown",
   "metadata": {
    "id": "PIIx-8_IphqN"
   },
   "source": [
    "#### Chart - 7 - Pie Chart for Mostly used Distribution channel and Bar plot for Relationship of Distribution channel and ADR"
   ]
  },
  {
   "cell_type": "code",
   "execution_count": null,
   "metadata": {
    "colab": {
     "base_uri": "https://localhost:8080/",
     "height": 509
    },
    "id": "lqAIGUfyphqO",
    "outputId": "dbd6678c-6115-42dd-8b3a-fb4500ef6cc9"
   },
   "outputs": [],
   "source": [
    "# Chart - 7 visualization code\n",
    "# Visualizing with the help of pie chart for mostly used distribution channel\n",
    "\n",
    "# Creating labels for the pie chart\n",
    "labels = hotel_booking_df['distribution_channel'].value_counts().index.tolist()\n",
    "\n",
    "# Creating a new DataFrame with counts of each distribution channel\n",
    "distribution_channel_df = hotel_booking_df['distribution_channel'].value_counts().reset_index()\n",
    "distribution_channel_df.columns = ['distribution_channel', 'count']\n",
    "\n",
    "# Adding a percentage column to the DataFrame\n",
    "distribution_channel_df['percentage'] = (distribution_channel_df['count'] * 100 / hotel_booking_df.shape[0]).round(1)\n",
    "\n",
    "# Creating a list of percentages for the pie chart labels\n",
    "sizes = distribution_channel_df['percentage'].values.tolist()\n",
    "\n",
    "# Plotting the pie chart\n",
    "plt.figure(figsize=(12, 8))\n",
    "hotel_booking_df['distribution_channel'].value_counts().plot.pie(\n",
    "    explode=[0.05] * len(labels), shadow=False, labels=None, startangle=140, autopct='%1.1f%%', fontsize=12\n",
    ")\n",
    "\n",
    "# Setting legends with the percentage values\n",
    "labels = [f'{label}, {size}%' for label, size in zip(labels, sizes)]\n",
    "plt.legend(bbox_to_anchor=(1, 0.5), loc='center left', labels=labels)\n",
    "plt.title('Mostly used Distribution Channel\\nfor Hotel Bookings', fontsize=20)\n",
    "\n",
    "# Show the plot\n",
    "plt.show()"
   ]
  },
  {
   "cell_type": "code",
   "execution_count": null,
   "metadata": {
    "colab": {
     "base_uri": "https://localhost:8080/",
     "height": 414
    },
    "id": "kX_hsmLjhDrk",
    "outputId": "9b3b47a3-dd7a-409c-985a-836b7e28013d"
   },
   "outputs": [],
   "source": [
    "# Visualizing with the help of bar plot for checking relationship between ADR and distribution channel\n",
    "# Using group by on distribution channel and hotel\n",
    "distribution_channel_df = hotel_booking_df.groupby(['distribution_channel', 'hotel'])['adr'].mean().reset_index()\n",
    "\n",
    "# Set plot size\n",
    "plt.figure(figsize = (12,6))\n",
    "\n",
    "# Plotting the bar chart\n",
    "sns.barplot(x = 'distribution_channel', y = 'adr', data = distribution_channel_df, hue = 'hotel')\n",
    "\n",
    "# Set labels\n",
    "plt.xlabel(\"Distribution Channel\", fontsize = 16)\n",
    "plt.ylabel(\"ADR\", fontsize = 16)\n",
    "plt.title('ADR across Distribution Channel', fontsize = 20)\n",
    "\n",
    "# To show\n",
    "plt.show()"
   ]
  },
  {
   "cell_type": "markdown",
   "metadata": {
    "id": "t27r6nlMphqO"
   },
   "source": [
    "##### 1. Why did you pick the specific chart?"
   ]
  },
  {
   "cell_type": "markdown",
   "metadata": {
    "id": "iv6ro40sphqO"
   },
   "source": [
    "In the first visualization here i have used the pie chart to get clear understanding of mostly used booking distribution channel with occupancy percentage of each booking channel. A pie chart expresses a part-to-whole relationship in the data. It's easy to explain the percentage comparison through area covered in a circle with different colors. Where different percentage comparison comes into action, pie chart is used frequently. So, i have used Pie chart and which helped me to get the percentage comparison of the dependent variable.\n",
    "\n",
    "While in 2nd visualization, Bar charts are used. Bar charts show the frequency counts of values for the different levels of a categorical or nominal variable. Sometimes, bar charts show other statistics, such as percentages. To show the mean of ADR with respect to the type of distribution channel, i have used Bar chart. So, this graph will help us to know about various distribution channel and their contribution to ADR in order to increase the income and revenue."
   ]
  },
  {
   "cell_type": "markdown",
   "metadata": {
    "id": "r2jJGEOYphqO"
   },
   "source": [
    "##### 2. What is/are the insight(s) found from the chart?"
   ]
  },
  {
   "cell_type": "markdown",
   "metadata": {
    "id": "Po6ZPi4hphqO"
   },
   "source": [
    "From the above 1st chart, i have found that 'TA/TO' has been mostly (79.1%) used for booking hotels. Direct market segment of 14.9%, Corporates market segment of 5.8%, GDS market segment of only 0.2% and rest unidentified are 0%\n",
    "\n",
    "From the above 2nd chart it is clear that 'Direct' and 'TA/TO' have almost equally contribution in ADR in both type of hotels i.e. 'City Hotel' and 'Resort Hotel'. While, GDS has highly contributed in ADR in 'City Hotel' type. GDS needs to increase Resort Hotel bookings. Corporate - These are corporate hotel booking companies which makes bookings possible. The definitions of abbreviations used in this graph are as follows:-\n",
    "\n",
    "*   GDS- A GDS is a worldwide contact between travel bookers and suppliers, such as hotels and other accommodation providers. It communicates live product, price and availability data to travel agents and online booking engines, and allows for automated transactions.\n",
    "\n",
    "*   Direct- means that bookings are directly made with the respective hotels.\n",
    "\n",
    "*   TA/TO- means that bookings are made through travel agents and travel operators.\n",
    "\n",
    "*   Undefined- Bookings are undefined. It may be the reason that customers made their bookings on arrival.\n",
    "\n",
    "\n",
    "\n"
   ]
  },
  {
   "cell_type": "markdown",
   "metadata": {
    "id": "b0JNsNcRphqO"
   },
   "source": [
    "##### 3. Will the gained insights help creating a positive business impact? \n",
    "Are there any insights that lead to negative growth? Justify with specific reason."
   ]
  },
  {
   "cell_type": "markdown",
   "metadata": {
    "id": "xvSq8iUTphqO"
   },
   "source": [
    "So, from the 1st graph, we have got the insights that 'TA/TO' is the leading one while Direct and Corporates have the potential to grow as they occupy much less space than the leading one. So, a good understanding and relation of Hotels with 'TA/TO' will definitely add up to the growth and revenue.\n",
    "\n",
    "Yes, the gained insights from 2nd visualization will definitely help different distribution channels to work on the spaces where they are lacking behind like GDS is lacking behind in the bookings of Resort hotel. GDS is dominating in terms of ADR in case of City hotels but lacking behind in the category of Resort hotel. So, just taking proper steps in the right direction will help to increase the overall revenue."
   ]
  },
  {
   "cell_type": "markdown",
   "metadata": {
    "id": "BZR9WyysphqO"
   },
   "source": [
    "#### Chart - 8 - Bookings by Month and Optimal Stay Length in Hotels"
   ]
  },
  {
   "cell_type": "code",
   "execution_count": null,
   "metadata": {
    "colab": {
     "base_uri": "https://localhost:8080/",
     "height": 426
    },
    "id": "TdPTWpAVphqO",
    "outputId": "203efb2a-3f1b-478e-a107-1c6e58406074"
   },
   "outputs": [],
   "source": [
    "# Chart - 8 visualization code\n",
    "\n",
    "# Using groupby on arrival_date_month and taking the hotel count\n",
    "bookings_by_months_df = hotel_booking_df.groupby(['arrival_date_month'])['hotel'].count().reset_index().rename(columns = {'hotel':'Counts'})\n",
    "\n",
    "# Creating list of months in order\n",
    "months = ['January', 'February', 'March', 'April', 'May', 'June', 'July', 'August', 'September', 'October', 'November', 'December']\n",
    "\n",
    "# Creating dataframe which will map the order of above months list without changing its values\n",
    "bookings_by_months_df['arrival_date_month'] = pd.Categorical(bookings_by_months_df['arrival_date_month'], categories = months, ordered = True)\n",
    "\n",
    "# Sorting by arrival_date_month\n",
    "bookings_by_months_df = bookings_by_months_df.sort_values('arrival_date_month')\n",
    "\n",
    "bookings_by_months_df"
   ]
  },
  {
   "cell_type": "code",
   "execution_count": null,
   "metadata": {
    "colab": {
     "base_uri": "https://localhost:8080/",
     "height": 414
    },
    "id": "yBGKsrKKF2Tj",
    "outputId": "ed7905c7-a6a2-40e2-80cc-bfe6e69e3f1d"
   },
   "outputs": [],
   "source": [
    "# Visualizing with the help of line plot\n",
    "\n",
    "# Set plot size\n",
    "plt.figure(figsize = (14,6))\n",
    "\n",
    "# Plotting lineplot on x- months & y- bookings counts\n",
    "sns.lineplot(x = bookings_by_months_df['arrival_date_month'], y = bookings_by_months_df['Counts'])\n",
    "\n",
    "# Set title\n",
    "plt.title('Number of bookings across each month', fontsize = 20)\n",
    "\n",
    "# Set labels\n",
    "plt.xlabel('Month', fontsize = 16)\n",
    "plt.ylabel('Number of bookings', fontsize = 16)\n",
    "\n",
    "# To show\n",
    "plt.show()"
   ]
  },
  {
   "cell_type": "code",
   "execution_count": null,
   "metadata": {
    "id": "Xw9Utv0yB855"
   },
   "outputs": [],
   "source": [
    "# Visualizing with the help of bar plot\n",
    "\n",
    "# Using groupby function on total stay and hotel\n",
    "stay = hotel_booking_df.groupby(['total_stay', 'hotel']).agg('count').reset_index()\n",
    "\n",
    "# Taking only first three columns\n",
    "stay = stay.iloc[:, :3]\n",
    "\n",
    "# Renaming the columns\n",
    "stay = stay.rename(columns = {'is_canceled':'Number of stays'})"
   ]
  },
  {
   "cell_type": "code",
   "execution_count": null,
   "metadata": {
    "colab": {
     "base_uri": "https://localhost:8080/",
     "height": 523
    },
    "id": "J6pXK_lyELP-",
    "outputId": "26b70711-94ee-426b-dfdb-f173c572959e"
   },
   "outputs": [],
   "source": [
    "# Set plot size\n",
    "plt.figure(figsize = (16,8))\n",
    "\n",
    "# Plotting barchart\n",
    "sns.barplot(x = 'total_stay', y = 'Number of stays', hue = 'hotel', data = stay)\n",
    "\n",
    "# Set labels\n",
    "plt.title('Optimal Stay Length in Both Hotel types', fontsize = 20)\n",
    "plt.ylabel('Count of Stays', fontsize = 16)\n",
    "plt.xlabel('Total Stays(Days)', fontsize = 16)\n",
    "\n",
    "# To show\n",
    "plt.show()"
   ]
  },
  {
   "cell_type": "markdown",
   "metadata": {
    "id": "jj7wYXLtphqO"
   },
   "source": [
    "##### 1. Why did you pick the specific chart?"
   ]
  },
  {
   "cell_type": "markdown",
   "metadata": {
    "id": "Ob8u6rCTphqO"
   },
   "source": [
    "For 1st chart, i have picked the line chart here because it helps to show small shifts that may be getting hard to spot in other graphs. It helps show trends for different periods. They are easy to understand. So, here we can easily track the change of 'number of bookings' with respect to month.\n",
    "\n",
    "While in 2nd chart here, bar plot has been used. I have used this chart to get clear view in understanding the relation between total stay in terms of days and count of stays(means total number of customers stayed)"
   ]
  },
  {
   "cell_type": "markdown",
   "metadata": {
    "id": "eZrbJ2SmphqO"
   },
   "source": [
    "##### 2. What is/are the insight(s) found from the chart?"
   ]
  },
  {
   "cell_type": "markdown",
   "metadata": {
    "id": "mZtgC_hjphqO"
   },
   "source": [
    "From this graph of 1st chart, i have found that July and August months had the most Bookings. As, July and August generally surrounds in and near the summer vacation. So, summer vacation can be the reason for the bookings.\n",
    "\n",
    "While, 2nd chart gives us different insights. So, from the above observations, we have found that the Optimal stay in both the type hotel is less than 7 days. So, after that staying numbers have declined drastically."
   ]
  },
  {
   "cell_type": "markdown",
   "metadata": {
    "id": "rFu4xreNphqO"
   },
   "source": [
    "##### 3. Will the gained insights help creating a positive business impact? \n",
    "Are there any insights that lead to negative growth? Justify with specific reason."
   ]
  },
  {
   "cell_type": "markdown",
   "metadata": {
    "id": "ey_0qi68phqO"
   },
   "source": [
    "Yes from the 1st chart, it is clear that this provides a good insights that hotels should be well prepared for the month of July and August as maximum bookings takes place for this month. So, better the preparation and good approach will definitely adds to the growth of Hotels.\n",
    "\n",
    "While in 2nd chart also have positive impact. Yes, from the insights gathered here, hotels can work in the domain to increase the staying length of customers to increase their revenue. The other understanding is that customers usually prefers a one week stay in a hotel. So, hotels need to work efficiently in these seven days so that customers would return to the same hotel again so this will increase the revenue."
   ]
  },
  {
   "cell_type": "markdown",
   "metadata": {
    "id": "YJ55k-q6phqO"
   },
   "source": [
    "#### Chart - 9 - Plotting Histogram"
   ]
  },
  {
   "cell_type": "code",
   "execution_count": null,
   "metadata": {
    "colab": {
     "base_uri": "https://localhost:8080/",
     "height": 971
    },
    "id": "B2aS4O1ophqO",
    "outputId": "ff94122b-01b2-4cd6-f6c2-57debb21bea7"
   },
   "outputs": [],
   "source": [
    "# Chart - 9 visualization code\n",
    "# Visualizing with the help of histogram plot for the entire dataset\n",
    "# Set the plot size\n",
    "hotel_booking_df.hist(figsize = (23,18))\n",
    "\n",
    "# To show\n",
    "plt.show()"
   ]
  },
  {
   "cell_type": "markdown",
   "metadata": {
    "id": "gCFgpxoyphqP"
   },
   "source": [
    "##### 1. Why did you pick the specific chart?"
   ]
  },
  {
   "cell_type": "markdown",
   "metadata": {
    "id": "TVxDimi2phqP"
   },
   "source": [
    "To understand the data in a clear way with proper insights. I have used the histogram here. The histogram is a popular graphing tool. It is used to summarize discrete or continuous data that are measured on a interval scale. It is often used to illustrate the major features of the distribution of the data in a convenient form. It is also useful when dealing with large data sets (greater than 100 observations). It can help detect any unusual observations (outliers) or any gaps in the data. Thus, i have used the histogram plot to analysis the variable distributions over the whole dataset whether it's symmetric or not."
   ]
  },
  {
   "cell_type": "markdown",
   "metadata": {
    "id": "OVtJsKN_phqQ"
   },
   "source": [
    "##### 2. What is/are the insight(s) found from the chart?"
   ]
  },
  {
   "cell_type": "markdown",
   "metadata": {
    "id": "ngGi97qjphqQ"
   },
   "source": [
    "Some insights found from the chart are as follows:-\n",
    "\n",
    "*   We can see that the maximum guest came in the year 2016.\n",
    "\n",
    "*   Maximum arrival week number is 30.\n",
    "\n",
    "*   Maximum arrival happens in the last of the month.\n",
    "\n",
    "*   Maximum guests comes with no children.\n",
    "\n",
    "*   There is very less requirement of Car parking spaces."
   ]
  },
  {
   "cell_type": "markdown",
   "metadata": {
    "id": "lssrdh5qphqQ"
   },
   "source": [
    "##### 3. Will the gained insights help creating a positive business impact? \n",
    "Are there any insights that lead to negative growth? Justify with specific reason."
   ]
  },
  {
   "cell_type": "markdown",
   "metadata": {
    "id": "tBpY5ekJphqQ"
   },
   "source": [
    "Just a histogram cannot define business impact. It's done just to see the distribution of the column data over the dataset."
   ]
  },
  {
   "cell_type": "markdown",
   "metadata": {
    "id": "U2RJ9gkRphqQ"
   },
   "source": [
    "#### Chart - 10 - Year and Hotel wise confirmed bookings and cancellation distribution"
   ]
  },
  {
   "cell_type": "code",
   "execution_count": null,
   "metadata": {
    "colab": {
     "base_uri": "https://localhost:8080/",
     "height": 414
    },
    "id": "GM7a4YP4phqQ",
    "outputId": "09364689-62f5-4158-91e8-5684a8bee4de"
   },
   "outputs": [],
   "source": [
    "# Chart - 10 visualization code\n",
    "\n",
    "# Finding out the percentage and counts of confirmed and canceled bookings\n",
    "# Plotting a Count Plot chart using seaborn for counts of confirmed and canceled bookings\n",
    "\n",
    "# Set plot size\n",
    "plt.figure(figsize = (10,6))\n",
    "\n",
    "# Create the figure object\n",
    "sns.countplot(x = 'hotel', hue = 'is_canceled', palette = 'Set2', data = hotel_booking_df)\n",
    "\n",
    "# Set legends\n",
    "plt.legend(['Confirmed', 'Canceled'])\n",
    "\n",
    "# Set labels\n",
    "plt.title('Hotel wise confirmation and cancelation of the bookings', fontsize = 20)\n",
    "plt.ylabel('Count of\\nconfirmation and cancelation', fontsize = 16)\n",
    "plt.xlabel('Hotel Type', fontsize = 16)\n",
    "\n",
    "# To show\n",
    "plt.show()"
   ]
  },
  {
   "cell_type": "code",
   "execution_count": null,
   "metadata": {
    "colab": {
     "base_uri": "https://localhost:8080/",
     "height": 331
    },
    "id": "fi9PgXd1chac",
    "outputId": "4738c28a-ce1b-423b-f0f7-5d4ab03e8a66"
   },
   "outputs": [],
   "source": [
    "# Plotting a Pie chart using matplotlib for percentage of confirmed and canceled bookings of Resort Hotel\n",
    "resort_hotel = hotel_booking_df.loc[(hotel_booking_df['hotel'] == 'Resort Hotel')]\n",
    "resort_hotel_checking_cancel = resort_hotel['is_canceled'].value_counts()\n",
    "\n",
    "# Set labels\n",
    "mylabels = ['Confirmed', 'Canceled']\n",
    "\n",
    "# Set figure size\n",
    "myexplode = [0.2, 0]\n",
    "\n",
    "# Create the figure object\n",
    "resort_hotel_cancelation = plt.pie(resort_hotel_checking_cancel, labels = mylabels, explode = myexplode, autopct = '%1.1f%%')\n",
    "\n",
    "# Set title\n",
    "plt.title('Resort Hotel\\nConfirmed and Cancelation')\n",
    "\n",
    "resort_hotel_checking_cancel"
   ]
  },
  {
   "cell_type": "code",
   "execution_count": null,
   "metadata": {
    "colab": {
     "base_uri": "https://localhost:8080/",
     "height": 414
    },
    "id": "yOj_IlPWmWVG",
    "outputId": "67afbe1c-a223-4eea-c45e-c2e0492d3801"
   },
   "outputs": [],
   "source": [
    "# Removing the canceled bookings from the data and creating a new dataframe\n",
    "data_not_canceled = hotel_booking_df[hotel_booking_df['is_canceled'] == 0]\n",
    "\n",
    "# Year wise Bookings of hotels\n",
    "# Set style\n",
    "sns.set_style(style = 'darkgrid')\n",
    "\n",
    "# Set plot size\n",
    "plt.figure(figsize = (12,6))\n",
    "\n",
    "# Create the figure object\n",
    "sns.countplot(x= 'arrival_date_year', hue= 'hotel', palette = 'tab10', data = data_not_canceled)\n",
    "\n",
    "# Set legends\n",
    "plt.legend(['Resort Hotel', 'City Hotel'])\n",
    "\n",
    "# Set labels\n",
    "plt.title('Year wise bookings of hotels', fontsize = 20)\n",
    "plt.ylabel('Number of bookings', fontsize = 16)\n",
    "plt.xlabel('Year', fontsize = 16)\n",
    "\n",
    "# To show\n",
    "plt.show()"
   ]
  },
  {
   "cell_type": "markdown",
   "metadata": {
    "id": "1M8mcRywphqQ"
   },
   "source": [
    "##### 1. Why did you pick the specific chart?"
   ]
  },
  {
   "cell_type": "markdown",
   "metadata": {
    "id": "8agQvks0phqQ"
   },
   "source": [
    "I have picked out the count plot and pie plot lot to get proper insights on Hotel wise cancelation and confirmation of bookings."
   ]
  },
  {
   "cell_type": "markdown",
   "metadata": {
    "id": "tgIPom80phqQ"
   },
   "source": [
    "##### 2. What is/are the insight(s) found from the chart?"
   ]
  },
  {
   "cell_type": "markdown",
   "metadata": {
    "id": "Qp13pnNzphqQ"
   },
   "source": [
    "We can clearly deduce from the above graphs that the City hotel is having greater number of bookings as compared to Resort hotel. But, the cancelation percentage is high of the City Hotel.\n",
    "\n",
    "From the above graphs, it can be summarised that in the year 2016 both the hotel saw a massive increase in their bookings and by far the year 2016 is the year of the highest bookings of both hotel. In 2016 and 2017 the City hotel is having the highest number of bookings but in 2015 the Resort hotel is having the highest number of bookings."
   ]
  },
  {
   "cell_type": "markdown",
   "metadata": {
    "id": "JMzcOPDDphqR"
   },
   "source": [
    "##### 3. Will the gained insights help creating a positive business impact? \n",
    "Are there any insights that lead to negative growth? Justify with specific reason."
   ]
  },
  {
   "cell_type": "markdown",
   "metadata": {
    "id": "R4Ka1PC2phqR"
   },
   "source": [
    "Overall the graphs show a positive outcome but the visualization of cancelation graph creates a situation of deep concern. So, here as we can see, that more than 1/4th of overall booking got canceled.  So, it's a matter of deep concern. Thus, we need to look over this problem. The solution to this problem is that, we can check the reasons of cancelation of a booking & need to get this sorted out as soon as possible at the business level to stop the problems getting broader."
   ]
  },
  {
   "cell_type": "markdown",
   "metadata": {
    "id": "x-EpHcCOp1ci"
   },
   "source": [
    "#### Chart - 11 - ADR across different months"
   ]
  },
  {
   "cell_type": "code",
   "execution_count": null,
   "metadata": {
    "colab": {
     "base_uri": "https://localhost:8080/",
     "height": 802
    },
    "id": "mAQTIvtqp1cj",
    "outputId": "4397ebaf-eba6-4539-c6cd-c9d62b491fe0"
   },
   "outputs": [],
   "source": [
    "# Chart - 11 visualization code\n",
    "\n",
    "# Using groupby funtion\n",
    "bookings_by_months_df = hotel_booking_df.groupby(['arrival_date_month', 'hotel'])['adr'].mean().reset_index()\n",
    "\n",
    "# Create month list\n",
    "months = ['January', 'February', 'March', 'April', 'May', 'June', 'July', 'August', 'September', 'October', 'November', 'December']\n",
    "\n",
    "# It will take the order of the month list in the dataframe along with values\n",
    "bookings_by_months_df['arrival_date_month'] = pd.Categorical(bookings_by_months_df['arrival_date_month'], categories = months, ordered = True)\n",
    "\n",
    "# Sorting values\n",
    "bookings_by_months_df = bookings_by_months_df.sort_values('arrival_date_month')\n",
    "\n",
    "bookings_by_months_df"
   ]
  },
  {
   "cell_type": "code",
   "execution_count": null,
   "metadata": {
    "colab": {
     "base_uri": "https://localhost:8080/",
     "height": 414
    },
    "id": "VvzZANrLaxJl",
    "outputId": "d4624f18-59a5-4a7c-bd24-5bd514be1024"
   },
   "outputs": [],
   "source": [
    "# Visualizing with the help of line plot\n",
    "\n",
    "# Set plot size\n",
    "plt.figure(figsize = (14,6))\n",
    "\n",
    "# Create the figure object and plotting the line\n",
    "sns.lineplot(x = bookings_by_months_df['arrival_date_month'], y = bookings_by_months_df['adr'], hue = bookings_by_months_df['hotel'])\n",
    "\n",
    "# Set labels\n",
    "plt.title('ADR across Each Month', fontsize = 20)\n",
    "plt.xlabel('Month', fontsize = 16)\n",
    "plt.ylabel('ADR', fontsize = 16)\n",
    "\n",
    "# To show\n",
    "plt.show()"
   ]
  },
  {
   "cell_type": "markdown",
   "metadata": {
    "id": "X_VqEhTip1ck"
   },
   "source": [
    "##### 1. Why did you pick the specific chart?"
   ]
  },
  {
   "cell_type": "markdown",
   "metadata": {
    "id": "-vsMzt_np1ck"
   },
   "source": [
    "I have picked the line chart here to get the clear insights of ADR by City and Resort hotels across each month. Line chart is very useful because it helps to show small shifts that may be getting hard to spot in other graphs. It helps show trends for different periods. They are easy to understand. To compare data, more than one line can be plotted on the same axis."
   ]
  },
  {
   "cell_type": "markdown",
   "metadata": {
    "id": "8zGJKyg5p1ck"
   },
   "source": [
    "##### 2. What is/are the insight(s) found from the chart?"
   ]
  },
  {
   "cell_type": "markdown",
   "metadata": {
    "id": "ZYdMsrqVp1ck"
   },
   "source": [
    "The insights found from the chart are as follows:-\n",
    "\n",
    "*   For Resort Hotel, ADR is high in the months of June, July, August as compared to City Hotels. The reason may be that customers/people want to spent their summer vacation in Resort Hotels.\n",
    "\n",
    "*   The best time for guests to visit Resort or City Hotels is January, February, March, April, October, November and December as the average daily rate in this month is very low. So, it would be feasible and sustainable."
   ]
  },
  {
   "cell_type": "markdown",
   "metadata": {
    "id": "PVzmfK_Ep1ck"
   },
   "source": [
    "##### 3. Will the gained insights help creating a positive business impact? \n",
    "Are there any insights that lead to negative growth? Justify with specific reason."
   ]
  },
  {
   "cell_type": "markdown",
   "metadata": {
    "id": "druuKYZpp1ck"
   },
   "source": [
    "So, the higher the ADR, the higher will be the revenue, so its a good sign. Hotels should work more to enhance their ADR by offering good schemes to attract customers in winter vacation also and other holidays."
   ]
  },
  {
   "cell_type": "markdown",
   "metadata": {
    "id": "n3dbpmDWp1ck"
   },
   "source": [
    "#### Chart - 12 - Weekly stay distribution and Calculation of Cancelation and non-cancelation"
   ]
  },
  {
   "cell_type": "code",
   "execution_count": null,
   "metadata": {
    "colab": {
     "base_uri": "https://localhost:8080/",
     "height": 572
    },
    "id": "bwevp1tKp1ck",
    "outputId": "23ccdbb7-846a-42da-f56b-17c6d0c756cf"
   },
   "outputs": [],
   "source": [
    "# Chart - 12 visualization code\n",
    "# As I have already created a column 'total_stay' above i.e.\n",
    "# Adding total staying days in hotels (if not already done)\n",
    "hotel_booking_df['total_stay'] = hotel_booking_df['stays_in_weekend_nights'] + hotel_booking_df['stays_in_week_nights']\n",
    "\n",
    "# Set the plot size\n",
    "plt.figure(figsize=(14, 7))\n",
    "\n",
    "# Using a violin plot to visualize in which weeks visitors stay the most\n",
    "sns.violinplot(x='arrival_date_week_number', y='total_stay', data=hotel_booking_df, inner='quartile')\n",
    "\n",
    "# Set labels\n",
    "plt.title('Week-wise Number of Stays', fontsize=20)\n",
    "plt.ylabel('Number of Stays', fontsize=16)\n",
    "plt.xlabel('Week Number', fontsize=16)\n",
    "\n",
    "# Show the plot\n",
    "plt.show()"
   ]
  },
  {
   "cell_type": "code",
   "execution_count": null,
   "metadata": {
    "colab": {
     "base_uri": "https://localhost:8080/",
     "height": 487
    },
    "id": "bKGK9JgCpjk_",
    "outputId": "37b41365-01d1-4a15-8031-28052630103c"
   },
   "outputs": [],
   "source": [
    "# Visualizing with the help of pie plot\n",
    "hotel_booking_df['is_canceled'].value_counts().plot.pie(explode = [0.05,0.05], autopct = '%1.1f%%', shadow = True, figsize = (10,8), fontsize = 20)\n",
    "\n",
    "# Set title\n",
    "plt.title('Cancelation and Non-Cancelation', fontsize = 20)\n",
    "\n",
    "# To show\n",
    "plt.show()"
   ]
  },
  {
   "cell_type": "markdown",
   "metadata": {
    "id": "ylSl6qgtp1ck"
   },
   "source": [
    "##### 1. Why did you pick the specific chart?"
   ]
  },
  {
   "cell_type": "markdown",
   "metadata": {
    "id": "m2xqNkiQp1ck"
   },
   "source": [
    "I have used the violin plot here, to gather proper relation between number of stays and week wise number of stays and violin plots are used when one want to observe the distribution of numetic data, and are especially useful when you want to make a comparison of distributions between multiple groups. This peaks, valleys, and tails of each group's density curve can be compared to see where groups are similar or different.\n",
    "\n",
    "I have picked this pie plot as it's look very precise and clear to get the insights between two variables. As, we can see now 27.5% tickets was canceled. Here, 0 denotes not canceled and 1 denotes the canceled one. So, i have used the pie plot because it represents data visually as a fractional part of a whole, which can be an effective communication tool for the even uninformed audience. It enables the audience to see a data comparison at a glance to make an immediate analysis or to understand information quickly."
   ]
  },
  {
   "cell_type": "markdown",
   "metadata": {
    "id": "ZWILFDl5p1ck"
   },
   "source": [
    "##### 2. What is/are the insight(s) found from the chart?"
   ]
  },
  {
   "cell_type": "markdown",
   "metadata": {
    "id": "x-lUsV2mp1ck"
   },
   "source": [
    "From the above violin plot, we have found that from the week 28 to 31, it has shown the highest days of stay whereas from the week 1 to 11 has shown a very steady trend in the number of stays and also the week 18 to 22 has shown the least number of stays by the visitors in aggregate of all 3 years 2015, 2016 and 2017.\n",
    "\n",
    "From the graph, we have found the insights that more than 1/4th of the overall bookings i.e. approx 27.5% of the tickets was got canceled."
   ]
  },
  {
   "cell_type": "markdown",
   "metadata": {
    "id": "M7G43BXep1ck"
   },
   "source": [
    "##### 3. Will the gained insights help creating a positive business impact? \n",
    "Are there any insights that lead to negative growth? Justify with specific reason."
   ]
  },
  {
   "cell_type": "markdown",
   "metadata": {
    "id": "5wwDJXsLp1cl"
   },
   "source": [
    "Yes, according to the outcomes, Client can have a better plan to provide better services to the guests so that the revenue can be multiplied.\n",
    "\n",
    "So, here as we can see, that more than 27% booking got canceled. So, it's a matter of deep concern. Thus, we need to look over this problem. The solution to this problem is that, we can check the reasons of cancelation of a booking & need to get this sorted out as soon as possible at the business level to stop the problems getting broader."
   ]
  },
  {
   "cell_type": "markdown",
   "metadata": {
    "id": "Ag9LCva-p1cl"
   },
   "source": [
    "#### Chart - 13 - Room type preference and Customer types"
   ]
  },
  {
   "cell_type": "code",
   "execution_count": null,
   "metadata": {
    "colab": {
     "base_uri": "https://localhost:8080/",
     "height": 414
    },
    "id": "EUfxeq9-p1cl",
    "outputId": "f5d7667b-1831-444c-e96d-769a28915d69"
   },
   "outputs": [],
   "source": [
    "# Chart - 13 visualization code\n",
    "\n",
    "# Set the plot size\n",
    "plt.figure(figsize = (14,6))\n",
    "\n",
    "# Create the figure object\n",
    "sns.countplot(x = hotel_booking_df['assigned_room_type'], order = hotel_booking_df['assigned_room_type'].value_counts().index)\n",
    "\n",
    "# Set labels\n",
    "plt.xlabel('Room Type', fontsize = 16)\n",
    "plt.ylabel('Count of Room type', fontsize = 16)\n",
    "plt.title('Most preferred Room Type', fontsize = 20)\n",
    "\n",
    "# To show\n",
    "plt.show()"
   ]
  },
  {
   "cell_type": "code",
   "execution_count": null,
   "metadata": {
    "colab": {
     "base_uri": "https://localhost:8080/",
     "height": 414
    },
    "id": "zsz2E0Q7aaIx",
    "outputId": "9da0dc5f-6f7f-449f-bafd-b8c44165abac"
   },
   "outputs": [],
   "source": [
    "# Using seeborn to plot a count plot chart to demonstrate the types of customer visit the most\n",
    "# Set the plot size\n",
    "plt.figure(figsize = (12,6))\n",
    "\n",
    "# Create the figure object\n",
    "sns.countplot(x = 'arrival_date_month', hue = 'customer_type', palette = 'Set2', data = hotel_booking_df)\n",
    "\n",
    "# Set labels\n",
    "plt.xlabel('Months', fontsize = 16)\n",
    "plt.ylabel('Number of customers', fontsize = 16)\n",
    "plt.title('Types of customer arrived month wise', fontsize = 20)\n",
    "\n",
    "# To show\n",
    "plt.show()"
   ]
  },
  {
   "cell_type": "markdown",
   "metadata": {
    "id": "E6MkPsBcp1cl"
   },
   "source": [
    "##### 1. Why did you pick the specific chart?"
   ]
  },
  {
   "cell_type": "markdown",
   "metadata": {
    "id": "V22bRsFWp1cl"
   },
   "source": [
    "For 1st visualization, i have picked the bar chart to display result for this set of code. Here, i have used bar graph to show distribution by volume(count of room), which type of room is alotted. Bar graph summarises the large set of data in simple visual form. It displays each category of data in the frequency distribution. It clarifies the trend of data better than the table. So, i have used the bar graph here.\n",
    "\n",
    "While 2nd visualization involves a count plot because it helps us to get clear insights with the total number of guests visited. So, i have used count plot here to know about the type of guests."
   ]
  },
  {
   "cell_type": "markdown",
   "metadata": {
    "id": "2cELzS2fp1cl"
   },
   "source": [
    "##### 2. What is/are the insight(s) found from the chart?"
   ]
  },
  {
   "cell_type": "markdown",
   "metadata": {
    "id": "ozQPc2_Ip1cl"
   },
   "source": [
    "From the above chart, it is found that the most preferred Room type is 'A'. So, majority of the guests have shown interest in this room type. So, overall this chart shows room type 'A' is most preferred by guests.\n",
    "\n",
    "From the 2nd graph, it can be summarised that the Transient type of customers visit the most whereas the visitors who are in group comes in the category of least visitors."
   ]
  },
  {
   "cell_type": "markdown",
   "metadata": {
    "id": "3MPXvC8up1cl"
   },
   "source": [
    "##### 3. Will the gained insights help creating a positive business impact? \n",
    "Are there any insights that lead to negative growth? Justify with specific reason."
   ]
  },
  {
   "cell_type": "markdown",
   "metadata": {
    "id": "GL8l1tdLp1cl"
   },
   "source": [
    "Yes, from the graph it can be seen that there are positive impacts because 'A', 'D', 'E' is more preferred by guest due to better services offered in room type. So, overall booking in a hotel matters. So, each room type belongs to each hotel so wherever customers goes, the hotel will be benefit but Hotels should also look in the factors affecting less preference in some particular room type. So, overall if other room types will also gain popularity then again hotel will be benefitted. So, ultimately hotels will encounters more bookings resulting in much more revenues.\n",
    "\n",
    "Ofcourse the better understanding regarding the different type of guests will help to take proper right steps towards services, facilities, requirements and offers which will directly result in the growth in business."
   ]
  },
  {
   "cell_type": "markdown",
   "metadata": {
    "id": "NC_X3p0fY2L0"
   },
   "source": [
    "#### Chart - 14 - Correlation Heatmap"
   ]
  },
  {
   "cell_type": "code",
   "execution_count": null,
   "metadata": {
    "colab": {
     "base_uri": "https://localhost:8080/",
     "height": 766
    },
    "id": "xyC9zolEZNRQ",
    "outputId": "8cfae067-d8a6-4585-8e1a-e70ad073c540"
   },
   "outputs": [],
   "source": [
    "# Correlation Heatmap visualization code\n",
    "# Selecting only numeric columns for correlation\n",
    "numeric_df = hotel_booking_df.select_dtypes(include=['number'])\n",
    "\n",
    "# Set the plot size\n",
    "plt.figure(figsize=(18, 10))\n",
    "\n",
    "# Create the heatmap\n",
    "sns.heatmap(numeric_df.corr(), annot=True, fmt='.2f', cmap='coolwarm')\n",
    "\n",
    "# Set the title\n",
    "plt.title('Correlation Heatmap of Numeric Columns', fontsize=20)\n",
    "\n",
    "# Show the plot\n",
    "plt.show()"
   ]
  },
  {
   "cell_type": "markdown",
   "metadata": {
    "id": "UV0SzAkaZNRQ"
   },
   "source": [
    "##### 1. Why did you pick the specific chart?"
   ]
  },
  {
   "cell_type": "markdown",
   "metadata": {
    "id": "DVPuT8LYZNRQ"
   },
   "source": [
    "A correlation matrix is a table showing correlation coefficients between variables. Each cell in the table shows the co-relation between two variables. A correlation matrix is used to summarize data, as an input into a more advanced analysis and as a diagnostic for advanced analysis. The range of correlation is [-1,1].\n",
    "\n",
    "Thus to know the co-relation between all the variables along with the correlation coefficients, i have used correlation heatmap."
   ]
  },
  {
   "cell_type": "markdown",
   "metadata": {
    "id": "YPEH6qLeZNRQ"
   },
   "source": [
    "##### 2. What is/are the insight(s) found from the chart?"
   ]
  },
  {
   "cell_type": "markdown",
   "metadata": {
    "id": "bfSqtnDqZNRR"
   },
   "source": [
    "The insights found from the above chart are as follows:-\n",
    "\n",
    "*   is_canceled and total_stay are negatively correlated. This means customers are unlikely to cancel their bookings if they don't get the same room as per reserved room. We have visualized it above.\n",
    "\n",
    "*   lead_time and total_stay is positively correlated. This means more the stay of customer is, more will be the lead time.\n",
    "\n",
    "*   adults, childrens and babies are correlated to each other. This indicates more the people, more will be ADR.\n",
    "\n",
    "*   is_repeated guest and previous bookings not canceled have a strong correlation. This may be due to the reason that repeated guests are not more interested to cancel their bookings.\n",
    "\n",
    "*   So, these are some powerful insights found from the chart of correlation heatmap."
   ]
  },
  {
   "cell_type": "markdown",
   "metadata": {
    "id": "q29F0dvdveiT"
   },
   "source": [
    "#### Chart - 15 - Pair Plot "
   ]
  },
  {
   "cell_type": "code",
   "execution_count": null,
   "metadata": {
    "colab": {
     "base_uri": "https://localhost:8080/",
     "height": 1000
    },
    "id": "o58-TEIhveiU",
    "outputId": "1ecf66fd-6f70-429a-fd81-80bcacb93722"
   },
   "outputs": [],
   "source": [
    "# Pair Plot visualization code\n",
    "sns.pairplot(hotel_booking_df, hue = 'is_repeated_guest')\n",
    "\n",
    "# To show\n",
    "plt.show()"
   ]
  },
  {
   "cell_type": "markdown",
   "metadata": {
    "id": "EXh0U9oCveiU"
   },
   "source": [
    "##### 1. Why did you pick the specific chart?"
   ]
  },
  {
   "cell_type": "markdown",
   "metadata": {
    "id": "eMmPjTByveiU"
   },
   "source": [
    "Pair plot is used to understand the best set of features to explain a relationship between two variables or to form the most separated clusters. It also helps to form some simple classification models by drawing some simple lines or make linear separation in our data-set.\n",
    "\n",
    "Thus, i have used pair plot to analyse the patterns of data and relationship between the features. It's exactly same as the correlation map but here it shows the output in the graphical representation."
   ]
  },
  {
   "cell_type": "markdown",
   "metadata": {
    "id": "22aHeOlLveiV"
   },
   "source": [
    "##### 2. What is/are the insight(s) found from the chart?"
   ]
  },
  {
   "cell_type": "markdown",
   "metadata": {
    "id": "uPQ8RGwHveiV"
   },
   "source": [
    "We have found the relationship of 'is_repeated_guest' with different types of columns. So, generally this chart reflects the relationship of a particular column with all other columns."
   ]
  },
  {
   "cell_type": "markdown",
   "metadata": {
    "id": "JcMwzZxoAimU"
   },
   "source": [
    "## **5. Solution to Business Objective**"
   ]
  },
  {
   "cell_type": "markdown",
   "metadata": {
    "id": "8G2x9gOozGDZ"
   },
   "source": [
    "#### What do you suggest the client to achieve Business Objective ? \n",
    "Explain Briefly."
   ]
  },
  {
   "cell_type": "markdown",
   "metadata": {
    "id": "pASKb0qOza21"
   },
   "source": [
    "**Business objective attained as follows:** \n",
    "\n",
    "1. To attain high growth and more success, hotel business need to flourish and for that few things which we need to consider is high revenue generation, customers satisfaction and employeee retention.\n",
    "\n",
    "2. We are able achieve the same by showing the client which are the months which are high in revenue generation by using various charts and graphs distribution.\n",
    "\n",
    "3. Enhancing the revenue adopted by bar chart distribution of which type room are most preferred and reserved and which are the months suitable for visitors.\n",
    "\n",
    "4. We also have founded the various preferences in different categories like most liked meal type, optimal stay length, facilities required by customers like car parking spaces, etc. So, all these insights ultimately add to have a better planning for growth and higher revenue.\n",
    "\n",
    "5. So, preparing well by using and understanding these useful outcomes, the client can be well prepare in advance so that minimum grievances would be faced by clients in long run and would help in further enhancement of their hospitality and service.\n",
    "\n",
    "6. Ask for feedback often from the guests visiting the hotels so that the quality can be upgraded to the next level to increase more guests.\n",
    "\n",
    "7. Periodically throw offers to attract the old customers so as to increase the number of repeated guests."
   ]
  },
  {
   "cell_type": "markdown",
   "metadata": {
    "id": "gCX9965dhzqZ"
   },
   "source": [
    "# **Conclusion**"
   ]
  },
  {
   "cell_type": "markdown",
   "metadata": {
    "id": "Fjb1IsQkh3yE"
   },
   "source": [
    "\n",
    "*   City hotels are the most preferred hotel type by the guests. So, we can say that City hotels are the busiest hotel in comparison to the resort hotel.\n",
    "\n",
    "*   The average ADR of city hotels is higher as compared to the resort hotels. So, it can be said that these City hotels are generating more revenue than the resort hotels.\n",
    "\n",
    "*   The total stay of guests is directly proportional to the adr. So, higher the days of stay, the higher will be ADR and revenue as well.\n",
    "\n",
    "*   The percentage of repeated guests is very low. Only 3.9% people had revisited the hotels. Rest 96.1% were new guests. So, retention rate is much low.\n",
    "\n",
    "*   The percentage of required car parking spaces is very low. This means less car parking spaces don't affect the business much. Most of the customers (91.6%) do not require car parking spaces.\n",
    "\n",
    "*   Among different types of meals, BB (Bed & Breakfast) is the most preferred type of meal by the guests. So, guests love to opt for this meal type.\n",
    "\n",
    "*   'Direct' and 'TA/TO' have almost equally contribution in ADR in both type of hotels i.e. 'City Hotel' and 'Resort Hotel'. While, GDS has highly contributed in ADR in 'City Hotel' type.\n",
    "\n",
    "*   Optimal stay length in both the hotel types (City and Resort Hotel) is less than 7 days. Usually people stay for a week. So, after 1 week, the optimal stay length declined drastically.\n",
    "\n",
    "*   Most number of bookings have taken place in the month of July and August. July and August are the favourite months of guests to visit different places.\n",
    "\n",
    "*   The mostly used distribution channel for booking is 'TA/TO'. 79.1% bookings were made through TA/TO (travel agents/ tour operators).\n",
    "\n",
    "*   While calculating ADR across different month, it is found that for Resort hotel, ADR is high in the months of June, July, August as compared to City Hotels.\n",
    "\n",
    "*   Almost 1/4th of the total bookings is canceled. Approx, 27.5% bookings have got canceled out of all the bookings.\n",
    "\n",
    "*   Majority of the guests have shown interest in the room type 'A'. Room type 'A' is the most preferred room type."
   ]
  }
 ],
 "metadata": {
  "colab": {
   "collapsed_sections": [
    "HhfV-JJviCcP",
    "nA9Y7ga8ng1Z",
    "dauF4eBmngu3"
   ],
   "include_colab_link": true,
   "provenance": []
  },
  "gpuClass": "standard",
  "kernelspec": {
   "display_name": "Python 3 (ipykernel)",
   "language": "python",
   "name": "python3"
  },
  "language_info": {
   "codemirror_mode": {
    "name": "ipython",
    "version": 3
   },
   "file_extension": ".py",
   "mimetype": "text/x-python",
   "name": "python",
   "nbconvert_exporter": "python",
   "pygments_lexer": "ipython3",
   "version": "3.12.2"
  }
 },
 "nbformat": 4,
 "nbformat_minor": 4
}
